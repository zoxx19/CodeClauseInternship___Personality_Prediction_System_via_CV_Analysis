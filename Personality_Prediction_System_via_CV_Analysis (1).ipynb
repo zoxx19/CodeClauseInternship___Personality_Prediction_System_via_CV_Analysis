{
 "cells": [
  {
   "cell_type": "code",
   "execution_count": 1,
   "metadata": {
    "colab": {
     "base_uri": "https://localhost:8080/"
    },
    "id": "G9sAXtxOlcqn",
    "outputId": "c9537cde-7aa7-4ca2-b207-da2277a74261"
   },
   "outputs": [
    {
     "name": "stderr",
     "output_type": "stream",
     "text": [
      "[nltk_data] Downloading package stopwords to C:\\Users\\Ziad\n",
      "[nltk_data]     Elhady\\AppData\\Roaming\\nltk_data...\n",
      "[nltk_data]   Package stopwords is already up-to-date!\n"
     ]
    },
    {
     "name": "stdout",
     "output_type": "stream",
     "text": [
      "✔ Download and installation successful\n",
      "You can now load the model via spacy.load('en_core_web_sm')\n"
     ]
    }
   ],
   "source": [
    "# Data manipulation\n",
    "import csv \n",
    "import pandas as pd\n",
    "import numpy as np\n",
    "import os\n",
    "import textract\n",
    "import PyPDF2\n",
    "\n",
    "# NLP\n",
    "import nltk\n",
    "nltk.download('stopwords')\n",
    "from nltk.stem import WordNetLemmatizer\n",
    "from nltk.corpus import stopwords\n",
    "import spacy\n",
    "spacy.cli.download(\"en_core_web_sm\")\n",
    "nlp = spacy.load('en_core_web_sm')\n",
    "\n",
    "from spacy.matcher import PhraseMatcher\n",
    "import re\n",
    "from sklearn.metrics import ConfusionMatrixDisplay, accuracy_score, classification_report, confusion_matrix\n",
    "import warnings\n",
    "warnings.filterwarnings(\"ignore\") #ignore warning \n",
    "\n",
    "# ML\n",
    "from sklearn.ensemble import RandomForestClassifier\n",
    "from sklearn.model_selection import train_test_split\n",
    "from sklearn.metrics import accuracy_score, precision_recall_fscore_support\n",
    "\n",
    "# Visualizations\n",
    "import matplotlib.pyplot as plt\n",
    "import seaborn as sns\n",
    "\n",
    "# Model persistence\n",
    "from joblib import dump, load \n",
    "\n",
    "# Resume parser\n",
    "from pyresparser import ResumeParser"
   ]
  },
  {
   "cell_type": "code",
   "execution_count": 2,
   "metadata": {
    "id": "OTcdFOwKVjay"
   },
   "outputs": [],
   "source": [
    "df = pd.read_csv('train.csv')"
   ]
  },
  {
   "cell_type": "code",
   "execution_count": 3,
   "metadata": {
    "colab": {
     "base_uri": "https://localhost:8080/",
     "height": 206
    },
    "id": "qIxhrTO9cWQf",
    "outputId": "e4d5408c-bc66-4a29-bb6f-39360c49cb9d"
   },
   "outputs": [
    {
     "data": {
      "text/html": [
       "<div>\n",
       "<style scoped>\n",
       "    .dataframe tbody tr th:only-of-type {\n",
       "        vertical-align: middle;\n",
       "    }\n",
       "\n",
       "    .dataframe tbody tr th {\n",
       "        vertical-align: top;\n",
       "    }\n",
       "\n",
       "    .dataframe thead th {\n",
       "        text-align: right;\n",
       "    }\n",
       "</style>\n",
       "<table border=\"1\" class=\"dataframe\">\n",
       "  <thead>\n",
       "    <tr style=\"text-align: right;\">\n",
       "      <th></th>\n",
       "      <th>Gender</th>\n",
       "      <th>Age</th>\n",
       "      <th>openness</th>\n",
       "      <th>neuroticism</th>\n",
       "      <th>conscientiousness</th>\n",
       "      <th>agreeableness</th>\n",
       "      <th>extraversion</th>\n",
       "      <th>Personality (Class label)</th>\n",
       "    </tr>\n",
       "  </thead>\n",
       "  <tbody>\n",
       "    <tr>\n",
       "      <th>0</th>\n",
       "      <td>Male</td>\n",
       "      <td>17</td>\n",
       "      <td>7</td>\n",
       "      <td>4</td>\n",
       "      <td>7</td>\n",
       "      <td>3</td>\n",
       "      <td>2</td>\n",
       "      <td>extraverted</td>\n",
       "    </tr>\n",
       "    <tr>\n",
       "      <th>1</th>\n",
       "      <td>Male</td>\n",
       "      <td>19</td>\n",
       "      <td>4</td>\n",
       "      <td>5</td>\n",
       "      <td>4</td>\n",
       "      <td>6</td>\n",
       "      <td>6</td>\n",
       "      <td>serious</td>\n",
       "    </tr>\n",
       "    <tr>\n",
       "      <th>2</th>\n",
       "      <td>Female</td>\n",
       "      <td>18</td>\n",
       "      <td>7</td>\n",
       "      <td>6</td>\n",
       "      <td>4</td>\n",
       "      <td>5</td>\n",
       "      <td>5</td>\n",
       "      <td>dependable</td>\n",
       "    </tr>\n",
       "    <tr>\n",
       "      <th>3</th>\n",
       "      <td>Female</td>\n",
       "      <td>22</td>\n",
       "      <td>5</td>\n",
       "      <td>6</td>\n",
       "      <td>7</td>\n",
       "      <td>4</td>\n",
       "      <td>3</td>\n",
       "      <td>extraverted</td>\n",
       "    </tr>\n",
       "    <tr>\n",
       "      <th>4</th>\n",
       "      <td>Female</td>\n",
       "      <td>19</td>\n",
       "      <td>7</td>\n",
       "      <td>4</td>\n",
       "      <td>6</td>\n",
       "      <td>5</td>\n",
       "      <td>4</td>\n",
       "      <td>lively</td>\n",
       "    </tr>\n",
       "  </tbody>\n",
       "</table>\n",
       "</div>"
      ],
      "text/plain": [
       "   Gender  Age  openness  neuroticism  conscientiousness  agreeableness  \\\n",
       "0    Male   17         7            4                  7              3   \n",
       "1    Male   19         4            5                  4              6   \n",
       "2  Female   18         7            6                  4              5   \n",
       "3  Female   22         5            6                  7              4   \n",
       "4  Female   19         7            4                  6              5   \n",
       "\n",
       "   extraversion Personality (Class label)  \n",
       "0             2               extraverted  \n",
       "1             6                   serious  \n",
       "2             5                dependable  \n",
       "3             3               extraverted  \n",
       "4             4                    lively  "
      ]
     },
     "execution_count": 3,
     "metadata": {},
     "output_type": "execute_result"
    }
   ],
   "source": [
    "df.head()"
   ]
  },
  {
   "cell_type": "markdown",
   "metadata": {
    "id": "aI1Aj4XjdNsq"
   },
   "source": [
    "# **EDA**"
   ]
  },
  {
   "cell_type": "code",
   "execution_count": 4,
   "metadata": {
    "colab": {
     "base_uri": "https://localhost:8080/",
     "height": 300
    },
    "id": "FsfPuZvZcZAs",
    "outputId": "212a4f18-86bd-41e7-a422-6264a22df11c"
   },
   "outputs": [
    {
     "data": {
      "text/html": [
       "<div>\n",
       "<style scoped>\n",
       "    .dataframe tbody tr th:only-of-type {\n",
       "        vertical-align: middle;\n",
       "    }\n",
       "\n",
       "    .dataframe tbody tr th {\n",
       "        vertical-align: top;\n",
       "    }\n",
       "\n",
       "    .dataframe thead th {\n",
       "        text-align: right;\n",
       "    }\n",
       "</style>\n",
       "<table border=\"1\" class=\"dataframe\">\n",
       "  <thead>\n",
       "    <tr style=\"text-align: right;\">\n",
       "      <th></th>\n",
       "      <th>Age</th>\n",
       "      <th>openness</th>\n",
       "      <th>neuroticism</th>\n",
       "      <th>conscientiousness</th>\n",
       "      <th>agreeableness</th>\n",
       "      <th>extraversion</th>\n",
       "    </tr>\n",
       "  </thead>\n",
       "  <tbody>\n",
       "    <tr>\n",
       "      <th>count</th>\n",
       "      <td>709.000000</td>\n",
       "      <td>709.000000</td>\n",
       "      <td>709.000000</td>\n",
       "      <td>709.000000</td>\n",
       "      <td>709.000000</td>\n",
       "      <td>709.000000</td>\n",
       "    </tr>\n",
       "    <tr>\n",
       "      <th>mean</th>\n",
       "      <td>19.685472</td>\n",
       "      <td>5.019746</td>\n",
       "      <td>4.647391</td>\n",
       "      <td>4.643159</td>\n",
       "      <td>4.827927</td>\n",
       "      <td>4.409027</td>\n",
       "    </tr>\n",
       "    <tr>\n",
       "      <th>std</th>\n",
       "      <td>2.510672</td>\n",
       "      <td>1.519052</td>\n",
       "      <td>1.658673</td>\n",
       "      <td>1.703569</td>\n",
       "      <td>1.632564</td>\n",
       "      <td>1.567404</td>\n",
       "    </tr>\n",
       "    <tr>\n",
       "      <th>min</th>\n",
       "      <td>5.000000</td>\n",
       "      <td>1.000000</td>\n",
       "      <td>1.000000</td>\n",
       "      <td>1.000000</td>\n",
       "      <td>1.000000</td>\n",
       "      <td>1.000000</td>\n",
       "    </tr>\n",
       "    <tr>\n",
       "      <th>25%</th>\n",
       "      <td>18.000000</td>\n",
       "      <td>4.000000</td>\n",
       "      <td>4.000000</td>\n",
       "      <td>3.000000</td>\n",
       "      <td>4.000000</td>\n",
       "      <td>3.000000</td>\n",
       "    </tr>\n",
       "    <tr>\n",
       "      <th>50%</th>\n",
       "      <td>19.000000</td>\n",
       "      <td>5.000000</td>\n",
       "      <td>5.000000</td>\n",
       "      <td>5.000000</td>\n",
       "      <td>5.000000</td>\n",
       "      <td>5.000000</td>\n",
       "    </tr>\n",
       "    <tr>\n",
       "      <th>75%</th>\n",
       "      <td>21.000000</td>\n",
       "      <td>6.000000</td>\n",
       "      <td>6.000000</td>\n",
       "      <td>6.000000</td>\n",
       "      <td>6.000000</td>\n",
       "      <td>6.000000</td>\n",
       "    </tr>\n",
       "    <tr>\n",
       "      <th>max</th>\n",
       "      <td>28.000000</td>\n",
       "      <td>8.000000</td>\n",
       "      <td>8.000000</td>\n",
       "      <td>8.000000</td>\n",
       "      <td>8.000000</td>\n",
       "      <td>7.000000</td>\n",
       "    </tr>\n",
       "  </tbody>\n",
       "</table>\n",
       "</div>"
      ],
      "text/plain": [
       "              Age    openness  neuroticism  conscientiousness  agreeableness  \\\n",
       "count  709.000000  709.000000   709.000000         709.000000     709.000000   \n",
       "mean    19.685472    5.019746     4.647391           4.643159       4.827927   \n",
       "std      2.510672    1.519052     1.658673           1.703569       1.632564   \n",
       "min      5.000000    1.000000     1.000000           1.000000       1.000000   \n",
       "25%     18.000000    4.000000     4.000000           3.000000       4.000000   \n",
       "50%     19.000000    5.000000     5.000000           5.000000       5.000000   \n",
       "75%     21.000000    6.000000     6.000000           6.000000       6.000000   \n",
       "max     28.000000    8.000000     8.000000           8.000000       8.000000   \n",
       "\n",
       "       extraversion  \n",
       "count    709.000000  \n",
       "mean       4.409027  \n",
       "std        1.567404  \n",
       "min        1.000000  \n",
       "25%        3.000000  \n",
       "50%        5.000000  \n",
       "75%        6.000000  \n",
       "max        7.000000  "
      ]
     },
     "execution_count": 4,
     "metadata": {},
     "output_type": "execute_result"
    }
   ],
   "source": [
    "df.describe()"
   ]
  },
  {
   "cell_type": "code",
   "execution_count": 5,
   "metadata": {
    "colab": {
     "base_uri": "https://localhost:8080/"
    },
    "id": "DHz1gERrccvq",
    "outputId": "97cc185b-62aa-4125-bd0e-f848d7ac3eb3"
   },
   "outputs": [
    {
     "name": "stdout",
     "output_type": "stream",
     "text": [
      "<class 'pandas.core.frame.DataFrame'>\n",
      "RangeIndex: 709 entries, 0 to 708\n",
      "Data columns (total 8 columns):\n",
      " #   Column                     Non-Null Count  Dtype \n",
      "---  ------                     --------------  ----- \n",
      " 0   Gender                     709 non-null    object\n",
      " 1   Age                        709 non-null    int64 \n",
      " 2   openness                   709 non-null    int64 \n",
      " 3   neuroticism                709 non-null    int64 \n",
      " 4   conscientiousness          709 non-null    int64 \n",
      " 5   agreeableness              709 non-null    int64 \n",
      " 6   extraversion               709 non-null    int64 \n",
      " 7   Personality (Class label)  709 non-null    object\n",
      "dtypes: int64(6), object(2)\n",
      "memory usage: 44.4+ KB\n"
     ]
    }
   ],
   "source": [
    "df.info()"
   ]
  },
  {
   "cell_type": "markdown",
   "metadata": {},
   "source": [
    "This DataFrame profiles 709 people across 8 telling traits - from gender and age to core personality scores for openness, neuroticism and more. With complete data, these 709 rows paint a rich picture of human personality, ready for analysis."
   ]
  },
  {
   "cell_type": "code",
   "execution_count": 6,
   "metadata": {
    "colab": {
     "base_uri": "https://localhost:8080/",
     "height": 558
    },
    "id": "zMNJVNmzdNMF",
    "outputId": "4b905684-105f-41a7-861c-0468abd54f51"
   },
   "outputs": [
    {
     "data": {
      "text/plain": [
       "Text(0, 0.5, 'Count')"
      ]
     },
     "execution_count": 6,
     "metadata": {},
     "output_type": "execute_result"
    },
    {
     "data": {
      "image/png": "[encoded data removed]",
      "text/plain": [
       "<Figure size 640x480 with 1 Axes>"
      ]
     },
     "metadata": {},
     "output_type": "display_data"
    }
   ],
   "source": [
    "df['Personality (Class label)'].value_counts().plot(kind='bar')\n",
    "plt.title('Personality Class Distribution')\n",
    "plt.xlabel('Personality')\n",
    "plt.ylabel('Count')"
   ]
  },
  {
   "cell_type": "markdown",
   "metadata": {},
   "source": [
    "It looks that our classes is a little imbalanced"
   ]
  },
  {
   "cell_type": "markdown",
   "metadata": {},
   "source": [
    "# **Lets plot and see some correlation**\n"
   ]
  },
  {
   "cell_type": "code",
   "execution_count": 9,
   "metadata": {
    "colab": {
     "base_uri": "https://localhost:8080/",
     "height": 405
    },
    "id": "F5EzM2x6dUfd",
    "outputId": "86299264-b47f-40dc-c528-b036ac3610e6"
   },
   "outputs": [
    {
     "data": {
      "text/plain": [
       "Text(0.5, 1.0, 'Correlation Between Features')"
      ]
     },
     "execution_count": 9,
     "metadata": {},
     "output_type": "execute_result"
    },
    {
     "data": {
      "image/png": "[encoded data removed]",
      "text/plain": [
       "<Figure size 4000x1100 with 2 Axes>"
      ]
     },
     "metadata": {},
     "output_type": "display_data"
    }
   ],
   "source": [
    "corr = df.corr()\n",
    "plt.figure(figsize=(40,11))\n",
    "sns.heatmap(corr,\n",
    "            xticklabels=corr.columns,\n",
    "            yticklabels=corr.columns,\n",
    "            annot=True)\n",
    "plt.title('Correlation Between Features')"
   ]
  },
  {
   "cell_type": "code",
   "execution_count": 10,
   "metadata": {
    "id": "lkMjjmeZiT4S"
   },
   "outputs": [],
   "source": [
    "# Select only numeric columns\n",
    "numeric_cols = df.select_dtypes(include=['int', 'float'])"
   ]
  },
  {
   "cell_type": "markdown",
   "metadata": {
    "id": "NeOrHHpWi7df"
   },
   "source": [
    "# **Detecting Outliers if found**"
   ]
  },
  {
   "cell_type": "code",
   "execution_count": 11,
   "metadata": {
    "colab": {
     "base_uri": "https://localhost:8080/",
     "height": 1000
    },
    "id": "vBmt0pW5h4wq",
    "outputId": "ed5baa29-9deb-4aef-b3fc-de107d187ae1"
   },
   "outputs": [
    {
     "data": {
      "image/png": "[encoded data removed]",
      "text/plain": [
       "<Figure size 1000x2000 with 6 Axes>"
      ]
     },
     "metadata": {},
     "output_type": "display_data"
    }
   ],
   "source": [
    "fig, axs = plt.subplots(nrows=len(numeric_cols.columns), figsize=(10, 20))\n",
    "for i, col in enumerate(numeric_cols):\n",
    "    axs[i].boxplot(numeric_cols[col])\n",
    "    axs[i].set_title(col)\n",
    "\n",
    "plt.tight_layout()\n",
    "plt.show()"
   ]
  },
  {
   "cell_type": "markdown",
   "metadata": {},
   "source": [
    "It looks like There is no outliers in the Big five traits That awesome!  "
   ]
  },
  {
   "cell_type": "code",
   "execution_count": 12,
   "metadata": {
    "colab": {
     "base_uri": "https://localhost:8080/"
    },
    "id": "9aIMrRlHvkjb",
    "outputId": "ef82131e-501b-4d9d-8b75-3bea0b7a7a88"
   },
   "outputs": [
    {
     "data": {
      "text/plain": [
       "Age                  0.672516\n",
       "openness            -0.654131\n",
       "neuroticism         -0.486208\n",
       "conscientiousness   -0.416321\n",
       "agreeableness       -0.625747\n",
       "extraversion        -0.327695\n",
       "dtype: float64"
      ]
     },
     "execution_count": 12,
     "metadata": {},
     "output_type": "execute_result"
    }
   ],
   "source": [
    "df.skew()"
   ]
  },
  {
   "cell_type": "code",
   "execution_count": 13,
   "metadata": {
    "colab": {
     "base_uri": "https://localhost:8080/"
    },
    "id": "3oHDns-Vvo6u",
    "outputId": "8c5322f8-ded8-46ba-825a-ab1afff181e9"
   },
   "outputs": [
    {
     "data": {
      "text/plain": [
       "Age                  0.672516\n",
       "openness             0.258360\n",
       "neuroticism         -0.486208\n",
       "conscientiousness   -0.416321\n",
       "agreeableness        0.221953\n",
       "extraversion        -0.327695\n",
       "dtype: float64"
      ]
     },
     "execution_count": 13,
     "metadata": {},
     "output_type": "execute_result"
    }
   ],
   "source": [
    "df['openness'] = np.sqrt(max(df['openness']+1) - df['openness'])\n",
    "df['agreeableness'] = np.sqrt(max(df['agreeableness']+1) - df['agreeableness'])\n",
    "df.skew()"
   ]
  },
  {
   "cell_type": "markdown",
   "metadata": {},
   "source": [
    "We applied the transformations only to columns with high negative skew below -0.5 to correct their distributions while preserving the shape of columns with normal skew. Normalizing the distribution this way can improve model performance and accuracy."
   ]
  },
  {
   "cell_type": "markdown",
   "metadata": {
    "id": "6fRNLt2tjNKF"
   },
   "source": [
    "## **Modeling**"
   ]
  },
  {
   "cell_type": "code",
   "execution_count": 14,
   "metadata": {
    "id": "km3CMHclidmA"
   },
   "outputs": [],
   "source": [
    "#remove age and geneder as they are not a very important features\n",
    "df = df.drop(columns=['Gender','Age'])"
   ]
  },
  {
   "cell_type": "code",
   "execution_count": 15,
   "metadata": {
    "id": "GryFyTlwi3zB"
   },
   "outputs": [],
   "source": [
    "df['Personality (Class label)'] = df['Personality (Class label)'].map({'dependable':0, 'extraverted':1, 'lively':2, 'responsible':3, 'serious':4})"
   ]
  },
  {
   "cell_type": "code",
   "execution_count": 16,
   "metadata": {
    "colab": {
     "base_uri": "https://localhost:8080/"
    },
    "id": "UNBp16RIjTHE",
    "outputId": "183d1d9b-655c-47bb-8b9d-f87f6d6f39b3"
   },
   "outputs": [
    {
     "name": "stdout",
     "output_type": "stream",
     "text": [
      "(567, 5) (567,)\n",
      "(142, 5) (142,)\n"
     ]
    }
   ],
   "source": [
    "from sklearn.preprocessing import StandardScaler\n",
    "X = df.drop('Personality (Class label)', axis=1)\n",
    "y = df['Personality (Class label)']\n",
    "scaler = StandardScaler()\n",
    "X = scaler.fit_transform(X)\n",
    "# Split data into train and validation sets\n",
    "X_train, X_test, y_train, y_test = train_test_split(X, y, test_size=0.2, random_state=42)\n",
    "\n",
    "print(X_train.shape, y_train.shape)\n",
    "print(X_test.shape, y_test.shape)"
   ]
  },
  {
   "cell_type": "markdown",
   "metadata": {},
   "source": [
    "#### This code is using the SMOTE (Synthetic Minority Oversampling Technique) to resample the training data to address class imbalance."
   ]
  },
  {
   "cell_type": "code",
   "execution_count": 17,
   "metadata": {
    "colab": {
     "base_uri": "https://localhost:8080/"
    },
    "id": "SmqDiPL2aquU",
    "outputId": "ce67f069-db25-485e-9324-c3c4246edd30"
   },
   "outputs": [
    {
     "name": "stdout",
     "output_type": "stream",
     "text": [
      "(630, 5) (630,)\n"
     ]
    }
   ],
   "source": [
    "from imblearn.over_sampling import SMOTE\n",
    "\n",
    "sm = SMOTE(random_state=42)\n",
    "X_train, y_train = sm.fit_resample(X_train, y_train)\n",
    "print(X_train.shape, y_train.shape)"
   ]
  },
  {
   "cell_type": "markdown",
   "metadata": {},
   "source": [
    "The resampled output is used in place of the original imbalanced data when training models."
   ]
  },
  {
   "cell_type": "code",
   "execution_count": 18,
   "metadata": {
    "colab": {
     "base_uri": "https://localhost:8080/",
     "height": 885
    },
    "id": "3VV9WkKFr6ww",
    "outputId": "b68b5a4e-659a-4161-a51d-ccfff1768285"
   },
   "outputs": [
    {
     "name": "stdout",
     "output_type": "stream",
     "text": [
      "[15:56:26] WARNING: ..\\src\\learner.cc:1115: Starting in XGBoost 1.3.0, the default evaluation metric used with the objective 'multi:softprob' was changed from 'merror' to 'mlogloss'. Explicitly set eval_metric if you'd like to restore the old behavior.\n",
      "Train Score:  96.03174603174604 %\n",
      "Test Score:  29.577464788732392 %\n",
      "Accuracy: 29.577464788732392\n",
      "------------------------------------------------------------\n",
      "Classification report:\n",
      "               precision    recall  f1-score   support\n",
      "\n",
      "           0       0.50      0.29      0.37        31\n",
      "           1       0.27      0.31      0.29        32\n",
      "           2       0.27      0.45      0.34        22\n",
      "           3       0.28      0.23      0.25        22\n",
      "           4       0.25      0.23      0.24        35\n",
      "\n",
      "    accuracy                           0.30       142\n",
      "   macro avg       0.31      0.30      0.30       142\n",
      "weighted avg       0.32      0.30      0.30       142\n",
      "\n",
      "------------------------------------------------------------\n",
      "Confusion matrix:\n",
      " [[ 9  8  6  4  4]\n",
      " [ 2 10  6  3 11]\n",
      " [ 0  5 10  1  6]\n",
      " [ 1  7  6  5  3]\n",
      " [ 6  7  9  5  8]]\n"
     ]
    },
    {
     "data": {
      "image/png": "[encoded data removed]",
      "text/plain": [
       "<Figure size 640x480 with 2 Axes>"
      ]
     },
     "metadata": {},
     "output_type": "display_data"
    }
   ],
   "source": [
    "from xgboost import XGBClassifier\n",
    "\n",
    "xgb = XGBClassifier()\n",
    "\n",
    "xgb.fit(X_train, y_train)\n",
    "\n",
    "train_score = xgb.score(X_train, y_train)\n",
    "test_score = xgb.score(X_test, y_test)\n",
    "\n",
    "print(\"Train Score: \", train_score*100, \"%\")\n",
    "print(\"Test Score: \", test_score*100, \"%\")\n",
    "\n",
    "y_pred = xgb.predict(X_test)\n",
    "\n",
    "acc = accuracy_score(y_test, y_pred)\n",
    "report = classification_report(y_test, y_pred)\n",
    "cm = confusion_matrix(y_test, y_pred)\n",
    "\n",
    "print(\"Accuracy:\", acc*100)\n",
    "print(\"--\"*30)\n",
    "print(\"Classification report:\\n\", report)\n",
    "print(\"--\"*30)\n",
    "print(\"Confusion matrix:\\n\", cm)\n",
    "\n",
    "disp = ConfusionMatrixDisplay(confusion_matrix=cm, display_labels=xgb.classes_)\n",
    "disp.plot(cmap=plt.cm.Blues)\n",
    "plt.show()"
   ]
  },
  {
   "cell_type": "code",
   "execution_count": 19,
   "metadata": {
    "colab": {
     "base_uri": "https://localhost:8080/",
     "height": 891
    },
    "id": "fI5Y81kItrZ7",
    "outputId": "60aab4f8-ed54-46b9-b1a1-a9f64ae6d57f"
   },
   "outputs": [
    {
     "name": "stdout",
     "output_type": "stream",
     "text": [
      "Train Score:  56.666666666666664 %\n",
      "Test Score:  23.943661971830984 %\n",
      "Accuracy: 23.943661971830984\n",
      "------------------------------------------------------------\n",
      "Classification report:\n",
      "               precision    recall  f1-score   support\n",
      "\n",
      "           0       0.28      0.32      0.30        31\n",
      "           1       0.23      0.25      0.24        32\n",
      "           2       0.24      0.36      0.29        22\n",
      "           3       0.22      0.23      0.22        22\n",
      "           4       0.20      0.09      0.12        35\n",
      "\n",
      "    accuracy                           0.24       142\n",
      "   macro avg       0.23      0.25      0.23       142\n",
      "weighted avg       0.23      0.24      0.23       142\n",
      "\n",
      "------------------------------------------------------------\n",
      "Confusion matrix:\n",
      " [[10  8  6  3  4]\n",
      " [ 8  8  8  6  2]\n",
      " [ 1  6  8  3  4]\n",
      " [ 6  3  6  5  2]\n",
      " [11 10  5  6  3]]\n"
     ]
    },
    {
     "data": {
      "image/png": "[encoded data removed]",
      "text/plain": [
       "<Figure size 640x480 with 2 Axes>"
      ]
     },
     "metadata": {},
     "output_type": "display_data"
    }
   ],
   "source": [
    "from sklearn.neighbors import KNeighborsClassifier\n",
    "knn = KNeighborsClassifier()\n",
    "\n",
    "knn.fit(X_train, y_train)\n",
    "\n",
    "train_score = knn.score(X_train, y_train)\n",
    "test_score = knn.score(X_test, y_test)\n",
    "\n",
    "print(\"Train Score: \", train_score*100, \"%\")\n",
    "print(\"Test Score: \", test_score*100, \"%\")\n",
    "\n",
    "y_pred = knn.predict(X_test)\n",
    "\n",
    "acc = accuracy_score(y_test, y_pred)\n",
    "report = classification_report(y_test, y_pred)\n",
    "cm = confusion_matrix(y_test, y_pred)\n",
    "\n",
    "print(\"Accuracy:\", acc*100)\n",
    "print(\"--\"*30)\n",
    "print(\"Classification report:\\n\", report)\n",
    "print(\"--\"*30)\n",
    "print(\"Confusion matrix:\\n\", cm)\n",
    "\n",
    "disp = ConfusionMatrixDisplay(confusion_matrix=cm, display_labels=knn.classes_)\n",
    "disp.plot(cmap=plt.cm.Blues)\n",
    "plt.show()"
   ]
  },
  {
   "cell_type": "code",
   "execution_count": 20,
   "metadata": {
    "colab": {
     "base_uri": "https://localhost:8080/",
     "height": 885
    },
    "id": "WLdHkFmowq00",
    "outputId": "e57b95da-c7a0-4801-e55d-1a937095bc54"
   },
   "outputs": [
    {
     "name": "stdout",
     "output_type": "stream",
     "text": [
      "Train Score:  96.03174603174604 %\n",
      "Test Score:  30.985915492957744 %\n",
      "Accuracy: 30.985915492957744\n",
      "------------------------------------------------------------\n",
      "Classification report:\n",
      "               precision    recall  f1-score   support\n",
      "\n",
      "           0       0.37      0.23      0.28        31\n",
      "           1       0.24      0.28      0.26        32\n",
      "           2       0.31      0.50      0.38        22\n",
      "           3       0.29      0.18      0.22        22\n",
      "           4       0.36      0.37      0.37        35\n",
      "\n",
      "    accuracy                           0.31       142\n",
      "   macro avg       0.31      0.31      0.30       142\n",
      "weighted avg       0.32      0.31      0.30       142\n",
      "\n",
      "------------------------------------------------------------\n",
      "Confusion matrix:\n",
      " [[ 7 11  6  4  3]\n",
      " [ 3  9  7  3 10]\n",
      " [ 0  3 11  3  5]\n",
      " [ 3  5  5  4  5]\n",
      " [ 6  9  7  0 13]]\n"
     ]
    },
    {
     "data": {
      "image/png": "[encoded data removed]",
      "text/plain": [
       "<Figure size 640x480 with 2 Axes>"
      ]
     },
     "metadata": {},
     "output_type": "display_data"
    }
   ],
   "source": [
    "from sklearn.ensemble import RandomForestClassifier\n",
    "\n",
    "rf = RandomForestClassifier()\n",
    "\n",
    "rf.fit(X_train, y_train)\n",
    "\n",
    "train_score = rf.score(X_train, y_train)\n",
    "test_score = rf.score(X_test, y_test)\n",
    "\n",
    "print(\"Train Score: \", train_score*100, \"%\")\n",
    "print(\"Test Score: \", test_score*100, \"%\")\n",
    "\n",
    "y_pred = rf.predict(X_test)\n",
    "\n",
    "# Rest of evaluation is same\n",
    "acc = accuracy_score(y_test, y_pred)\n",
    "report = classification_report(y_test, y_pred)\n",
    "cm = confusion_matrix(y_test, y_pred)\n",
    "\n",
    "print(\"Accuracy:\", acc*100)\n",
    "print(\"--\"*30)\n",
    "print(\"Classification report:\\n\", report)\n",
    "print(\"--\"*30)\n",
    "print(\"Confusion matrix:\\n\", cm)\n",
    "\n",
    "disp = ConfusionMatrixDisplay(confusion_matrix=cm, display_labels=rf.classes_)\n",
    "disp.plot(cmap=plt.cm.Blues)\n",
    "plt.show()"
   ]
  },
  {
   "cell_type": "code",
   "execution_count": 21,
   "metadata": {
    "colab": {
     "base_uri": "https://localhost:8080/",
     "height": 891
    },
    "id": "DkMUJU0w0fmA",
    "outputId": "698c1aa9-fff1-4cd0-8696-61df25b6b6e2"
   },
   "outputs": [
    {
     "name": "stdout",
     "output_type": "stream",
     "text": [
      "Train Score:  30.952380952380953 %\n",
      "Test Score:  22.535211267605636 %\n",
      "Accuracy: 22.535211267605636\n",
      "------------------------------------------------------------\n",
      "Classification report:\n",
      "               precision    recall  f1-score   support\n",
      "\n",
      "           0       0.21      0.29      0.25        31\n",
      "           1       0.29      0.31      0.30        32\n",
      "           2       0.32      0.41      0.36        22\n",
      "           3       0.11      0.09      0.10        22\n",
      "           4       0.11      0.06      0.07        35\n",
      "\n",
      "    accuracy                           0.23       142\n",
      "   macro avg       0.21      0.23      0.22       142\n",
      "weighted avg       0.21      0.23      0.21       142\n",
      "\n",
      "------------------------------------------------------------\n",
      "Confusion matrix:\n",
      " [[ 9  9  5  3  5]\n",
      " [ 9 10  4  4  5]\n",
      " [ 4  3  9  5  1]\n",
      " [ 8  4  2  2  6]\n",
      " [12  8  8  5  2]]\n"
     ]
    },
    {
     "data": {
      "image/png": "[encoded data removed]",
      "text/plain": [
       "<Figure size 640x480 with 2 Axes>"
      ]
     },
     "metadata": {},
     "output_type": "display_data"
    }
   ],
   "source": [
    "from sklearn.naive_bayes import GaussianNB\n",
    "\n",
    "nb = GaussianNB()\n",
    "\n",
    "nb.fit(X_train, y_train)\n",
    "\n",
    "train_score = nb.score(X_train, y_train)\n",
    "test_score = nb.score(X_test, y_test)\n",
    "\n",
    "print(\"Train Score: \", train_score*100, \"%\")\n",
    "print(\"Test Score: \", test_score*100, \"%\")\n",
    "\n",
    "y_pred = nb.predict(X_test)\n",
    "\n",
    "# Rest of evaluation is same\n",
    "acc = accuracy_score(y_test, y_pred)\n",
    "report = classification_report(y_test, y_pred)\n",
    "cm = confusion_matrix(y_test, y_pred)\n",
    "\n",
    "print(\"Accuracy:\", acc*100)\n",
    "print(\"--\"*30)\n",
    "print(\"Classification report:\\n\", report)\n",
    "print(\"--\"*30)\n",
    "print(\"Confusion matrix:\\n\", cm)\n",
    "\n",
    "disp = ConfusionMatrixDisplay(confusion_matrix=cm, display_labels=nb.classes_)\n",
    "disp.plot(cmap=plt.cm.Blues)\n",
    "plt.show()"
   ]
  },
  {
   "cell_type": "code",
   "execution_count": 22,
   "metadata": {
    "colab": {
     "base_uri": "https://localhost:8080/",
     "height": 891
    },
    "id": "vBTMT2lc1-xD",
    "outputId": "607ac093-e59f-4534-fa6d-026a97935b69"
   },
   "outputs": [
    {
     "name": "stdout",
     "output_type": "stream",
     "text": [
      "Train Score:  25.07936507936508 %\n",
      "Test Score:  19.014084507042252 %\n",
      "Accuracy: 19.014084507042252\n",
      "------------------------------------------------------------\n",
      "Classification report:\n",
      "               precision    recall  f1-score   support\n",
      "\n",
      "           0       0.17      0.19      0.18        31\n",
      "           1       0.17      0.22      0.19        32\n",
      "           2       0.31      0.18      0.23        22\n",
      "           3       0.15      0.18      0.16        22\n",
      "           4       0.24      0.17      0.20        35\n",
      "\n",
      "    accuracy                           0.19       142\n",
      "   macro avg       0.21      0.19      0.19       142\n",
      "weighted avg       0.20      0.19      0.19       142\n",
      "\n",
      "------------------------------------------------------------\n",
      "Confusion matrix:\n",
      " [[ 6 11  2  6  6]\n",
      " [ 9  7  4  7  5]\n",
      " [ 4  6  4  6  2]\n",
      " [ 8  3  1  4  6]\n",
      " [ 9 14  2  4  6]]\n"
     ]
    },
    {
     "data": {
      "image/png": "[encoded data removed]",
      "text/plain": [
       "<Figure size 640x480 with 2 Axes>"
      ]
     },
     "metadata": {},
     "output_type": "display_data"
    }
   ],
   "source": [
    "from sklearn.linear_model import LogisticRegression\n",
    "\n",
    "lr = LogisticRegression(multi_class='multinomial', solver='lbfgs')\n",
    "\n",
    "lr.fit(X_train, y_train)\n",
    "\n",
    "train_score = lr.score(X_train, y_train)\n",
    "test_score = lr.score(X_test, y_test)\n",
    "\n",
    "print(\"Train Score: \", train_score*100, \"%\")\n",
    "print(\"Test Score: \", test_score*100, \"%\")\n",
    "\n",
    "y_pred = lr.predict(X_test)\n",
    "\n",
    "\n",
    "acc = accuracy_score(y_test, y_pred)\n",
    "report = classification_report(y_test, y_pred)\n",
    "cm = confusion_matrix(y_test, y_pred)\n",
    "\n",
    "print(\"Accuracy:\", acc*100)\n",
    "print(\"--\"*30)\n",
    "print(\"Classification report:\\n\", report)\n",
    "print(\"--\"*30)\n",
    "print(\"Confusion matrix:\\n\", cm)\n",
    "\n",
    "disp = ConfusionMatrixDisplay(confusion_matrix=cm, display_labels=lr.classes_)\n",
    "disp.plot(cmap=plt.cm.Blues)\n",
    "plt.show()"
   ]
  },
  {
   "cell_type": "code",
   "execution_count": 23,
   "metadata": {
    "colab": {
     "base_uri": "https://localhost:8080/",
     "height": 1000
    },
    "id": "XAQOusUCwuvl",
    "outputId": "9ec85b20-19f8-4791-d31b-2ce95781509c"
   },
   "outputs": [
    {
     "name": "stdout",
     "output_type": "stream",
     "text": [
      "Fitting 5 folds for each of 12 candidates, totalling 60 fits\n",
      "[CV] END .........................C=0.1, gamma=1, kernel=rbf; total time=   0.0s\n",
      "[CV] END .........................C=0.1, gamma=1, kernel=rbf; total time=   0.0s\n",
      "[CV] END .........................C=0.1, gamma=1, kernel=rbf; total time=   0.0s\n",
      "[CV] END .........................C=0.1, gamma=1, kernel=rbf; total time=   0.0s\n",
      "[CV] END .........................C=0.1, gamma=1, kernel=rbf; total time=   0.0s\n",
      "[CV] END .....................C=0.1, gamma=1, kernel=sigmoid; total time=   0.0s\n",
      "[CV] END .....................C=0.1, gamma=1, kernel=sigmoid; total time=   0.0s\n",
      "[CV] END .....................C=0.1, gamma=1, kernel=sigmoid; total time=   0.0s\n",
      "[CV] END .....................C=0.1, gamma=1, kernel=sigmoid; total time=   0.0s\n",
      "[CV] END .....................C=0.1, gamma=1, kernel=sigmoid; total time=   0.0s\n",
      "[CV] END .......................C=0.1, gamma=0.1, kernel=rbf; total time=   0.0s\n",
      "[CV] END .......................C=0.1, gamma=0.1, kernel=rbf; total time=   0.0s\n",
      "[CV] END .......................C=0.1, gamma=0.1, kernel=rbf; total time=   0.0s\n",
      "[CV] END .......................C=0.1, gamma=0.1, kernel=rbf; total time=   0.0s\n",
      "[CV] END .......................C=0.1, gamma=0.1, kernel=rbf; total time=   0.0s\n",
      "[CV] END ...................C=0.1, gamma=0.1, kernel=sigmoid; total time=   0.0s\n",
      "[CV] END ...................C=0.1, gamma=0.1, kernel=sigmoid; total time=   0.0s\n",
      "[CV] END ...................C=0.1, gamma=0.1, kernel=sigmoid; total time=   0.0s\n",
      "[CV] END ...................C=0.1, gamma=0.1, kernel=sigmoid; total time=   0.0s\n",
      "[CV] END ...................C=0.1, gamma=0.1, kernel=sigmoid; total time=   0.0s\n",
      "[CV] END ...........................C=1, gamma=1, kernel=rbf; total time=   0.0s\n",
      "[CV] END ...........................C=1, gamma=1, kernel=rbf; total time=   0.0s\n",
      "[CV] END ...........................C=1, gamma=1, kernel=rbf; total time=   0.0s\n",
      "[CV] END ...........................C=1, gamma=1, kernel=rbf; total time=   0.0s\n",
      "[CV] END ...........................C=1, gamma=1, kernel=rbf; total time=   0.0s\n",
      "[CV] END .......................C=1, gamma=1, kernel=sigmoid; total time=   0.0s\n",
      "[CV] END .......................C=1, gamma=1, kernel=sigmoid; total time=   0.0s\n",
      "[CV] END .......................C=1, gamma=1, kernel=sigmoid; total time=   0.0s\n",
      "[CV] END .......................C=1, gamma=1, kernel=sigmoid; total time=   0.0s\n",
      "[CV] END .......................C=1, gamma=1, kernel=sigmoid; total time=   0.0s\n",
      "[CV] END .........................C=1, gamma=0.1, kernel=rbf; total time=   0.0s\n",
      "[CV] END .........................C=1, gamma=0.1, kernel=rbf; total time=   0.0s\n",
      "[CV] END .........................C=1, gamma=0.1, kernel=rbf; total time=   0.0s\n",
      "[CV] END .........................C=1, gamma=0.1, kernel=rbf; total time=   0.0s\n",
      "[CV] END .........................C=1, gamma=0.1, kernel=rbf; total time=   0.0s\n",
      "[CV] END .....................C=1, gamma=0.1, kernel=sigmoid; total time=   0.0s\n",
      "[CV] END .....................C=1, gamma=0.1, kernel=sigmoid; total time=   0.0s\n",
      "[CV] END .....................C=1, gamma=0.1, kernel=sigmoid; total time=   0.0s\n",
      "[CV] END .....................C=1, gamma=0.1, kernel=sigmoid; total time=   0.0s\n",
      "[CV] END .....................C=1, gamma=0.1, kernel=sigmoid; total time=   0.0s\n",
      "[CV] END .........................C=100, gamma=1, kernel=rbf; total time=   0.0s\n",
      "[CV] END .........................C=100, gamma=1, kernel=rbf; total time=   0.0s\n",
      "[CV] END .........................C=100, gamma=1, kernel=rbf; total time=   0.0s\n",
      "[CV] END .........................C=100, gamma=1, kernel=rbf; total time=   0.0s\n",
      "[CV] END .........................C=100, gamma=1, kernel=rbf; total time=   0.0s\n",
      "[CV] END .....................C=100, gamma=1, kernel=sigmoid; total time=   0.0s\n",
      "[CV] END .....................C=100, gamma=1, kernel=sigmoid; total time=   0.0s\n",
      "[CV] END .....................C=100, gamma=1, kernel=sigmoid; total time=   0.0s\n",
      "[CV] END .....................C=100, gamma=1, kernel=sigmoid; total time=   0.0s\n",
      "[CV] END .....................C=100, gamma=1, kernel=sigmoid; total time=   0.0s\n",
      "[CV] END .......................C=100, gamma=0.1, kernel=rbf; total time=   0.0s\n",
      "[CV] END .......................C=100, gamma=0.1, kernel=rbf; total time=   0.0s\n",
      "[CV] END .......................C=100, gamma=0.1, kernel=rbf; total time=   0.0s\n",
      "[CV] END .......................C=100, gamma=0.1, kernel=rbf; total time=   0.0s\n",
      "[CV] END .......................C=100, gamma=0.1, kernel=rbf; total time=   0.0s\n",
      "[CV] END ...................C=100, gamma=0.1, kernel=sigmoid; total time=   0.0s\n",
      "[CV] END ...................C=100, gamma=0.1, kernel=sigmoid; total time=   0.0s\n",
      "[CV] END ...................C=100, gamma=0.1, kernel=sigmoid; total time=   0.0s\n",
      "[CV] END ...................C=100, gamma=0.1, kernel=sigmoid; total time=   0.0s\n",
      "[CV] END ...................C=100, gamma=0.1, kernel=sigmoid; total time=   0.0s\n",
      "Tuned SVC Test Score: 26.06%\n",
      "Tuned SVC Accuracy: 26.06%\n",
      "              precision    recall  f1-score   support\n",
      "\n",
      "           0       0.37      0.32      0.34        31\n",
      "           1       0.22      0.25      0.24        32\n",
      "           2       0.19      0.32      0.24        22\n",
      "           3       0.22      0.18      0.20        22\n",
      "           4       0.33      0.23      0.27        35\n",
      "\n",
      "    accuracy                           0.26       142\n",
      "   macro avg       0.27      0.26      0.26       142\n",
      "weighted avg       0.28      0.26      0.26       142\n",
      "\n"
     ]
    },
    {
     "data": {
      "image/png": "[encoded data removed]",
      "text/plain": [
       "<Figure size 640x480 with 2 Axes>"
      ]
     },
     "metadata": {},
     "output_type": "display_data"
    }
   ],
   "source": [
    "from sklearn.model_selection import GridSearchCV, StratifiedKFold\n",
    "from sklearn.svm import SVC\n",
    "\n",
    "# Define parameter grid\n",
    "param_grid = {'C': [0.1, 1, 100],\n",
    "              'gamma': [1, 0.1],\n",
    "              'kernel': ['rbf', 'sigmoid']}\n",
    "\n",
    "# K-fold cross validation\n",
    "cv = StratifiedKFold(n_splits=5)\n",
    "\n",
    "# Grid Search CV with k-fold Cross Validation\n",
    "grid = GridSearchCV(SVC(), param_grid, cv=cv, refit=True, verbose=2)\n",
    "\n",
    "# Fit grid search\n",
    "grid.fit(X_train, y_train)\n",
    "\n",
    "# Use best model on test set\n",
    "best_model = grid.best_estimator_\n",
    "test_score = best_model.score(X_test, y_test)\n",
    "\n",
    "print(\"Tuned SVC Test Score: {:.2f}%\".format(test_score*100))\n",
    "\n",
    "# Make predictions\n",
    "y_pred = best_model.predict(X_test)\n",
    "\n",
    "# Evaluate predictions\n",
    "acc = accuracy_score(y_test, y_pred)\n",
    "print(\"Tuned SVC Accuracy: {:.2f}%\".format(acc*100))\n",
    "\n",
    "# Print classification report and confusion matrix\n",
    "print(classification_report(y_test, y_pred))\n",
    "\n",
    "cm = confusion_matrix(y_test, y_pred)\n",
    "disp = ConfusionMatrixDisplay(confusion_matrix=cm,\n",
    "                              display_labels=best_model.classes_)\n",
    "disp.plot(cmap=plt.cm.Blues)\n",
    "plt.title(\"Confusion Matrix for Tuned SVC\")\n",
    "plt.show()"
   ]
  },
  {
   "cell_type": "code",
   "execution_count": 24,
   "metadata": {
    "id": "UNxrVZRyzj2r"
   },
   "outputs": [],
   "source": [
    "models = [nb, xgb , rf, best_model , lr]\n",
    "# Dictionary to store results\n",
    "results = {}\n",
    "y_pred_li = []\n",
    "for model in models:\n",
    "   y_pred = model.predict(X_test)\n",
    "   y_pred_li.append(y_pred)\n",
    "   acc = accuracy_score(y_test, y_pred)\n",
    "   results[model.__class__.__name__] = acc"
   ]
  },
  {
   "cell_type": "markdown",
   "metadata": {
    "id": "zhU_3BPkhDYW"
   },
   "source": [
    "## **perform ensambling with all the models available**\n",
    "\n",
    "\n",
    "\n"
   ]
  },
  {
   "cell_type": "code",
   "execution_count": 25,
   "metadata": {
    "id": "PmT7N0YK3C03"
   },
   "outputs": [],
   "source": [
    "from scipy.stats import mode\n",
    "\n",
    "y_pred_final = [mode(y)[0][0] for y in zip(*y_pred_li)]\n",
    "accuracy = accuracy_score(y_test, y_pred_final)\n",
    "results[\"Ensambling\"] = accuracy"
   ]
  },
  {
   "cell_type": "markdown",
   "metadata": {
    "id": "ShIxkjoqiRgM"
   },
   "source": [
    "# **Another way we are going to try is Stacking and using the outputs of the models to be an input to another model**"
   ]
  },
  {
   "cell_type": "code",
   "execution_count": 26,
   "metadata": {
    "id": "-5pEzQ6sioq_"
   },
   "outputs": [],
   "source": [
    "X_meta = np.column_stack(y_pred_li)"
   ]
  },
  {
   "cell_type": "code",
   "execution_count": 27,
   "metadata": {
    "colab": {
     "base_uri": "https://localhost:8080/",
     "height": 866
    },
    "id": "Zamyqw-_nQ5B",
    "outputId": "e51916d8-cff0-428e-d291-a0b92a4becfb"
   },
   "outputs": [
    {
     "name": "stdout",
     "output_type": "stream",
     "text": [
      "Train Score:  85.2112676056338 %\n",
      "Accuracy: 85.2112676056338\n",
      "------------------------------------------------------------\n",
      "Classification report:\n",
      "               precision    recall  f1-score   support\n",
      "\n",
      "           0       0.81      0.81      0.81        31\n",
      "           1       0.82      0.88      0.85        32\n",
      "           2       0.83      0.91      0.87        22\n",
      "           3       0.80      0.91      0.85        22\n",
      "           4       1.00      0.80      0.89        35\n",
      "\n",
      "    accuracy                           0.85       142\n",
      "   macro avg       0.85      0.86      0.85       142\n",
      "weighted avg       0.86      0.85      0.85       142\n",
      "\n",
      "------------------------------------------------------------\n",
      "Confusion matrix:\n",
      " [[25  3  2  1  0]\n",
      " [ 0 28  2  2  0]\n",
      " [ 1  1 20  0  0]\n",
      " [ 1  1  0 20  0]\n",
      " [ 4  1  0  2 28]]\n"
     ]
    },
    {
     "data": {
      "image/png": "[encoded data removed]",
      "text/plain": [
       "<Figure size 640x480 with 2 Axes>"
      ]
     },
     "metadata": {},
     "output_type": "display_data"
    }
   ],
   "source": [
    "stacked_model = RandomForestClassifier()\n",
    "\n",
    "stacked_model.fit(X_meta, y_test)\n",
    "\n",
    "train_score = stacked_model.score(X_meta, y_test)\n",
    "\n",
    "print(\"Train Score: \", train_score*100, \"%\")\n",
    "\n",
    "y_pred = stacked_model.predict(X_meta)\n",
    "\n",
    "acc = accuracy_score(y_test, y_pred)\n",
    "results['Stacked Model'] = acc\n",
    "report = classification_report(y_test, y_pred)\n",
    "cm = confusion_matrix(y_test, y_pred)\n",
    "\n",
    "print(\"Accuracy:\", acc*100)\n",
    "print(\"--\"*30)\n",
    "print(\"Classification report:\\n\", report)\n",
    "print(\"--\"*30)\n",
    "print(\"Confusion matrix:\\n\", cm)\n",
    "\n",
    "disp = ConfusionMatrixDisplay(confusion_matrix=cm, display_labels=rf.classes_)\n",
    "disp.plot(cmap=plt.cm.Blues)\n",
    "plt.show()"
   ]
  },
  {
   "cell_type": "markdown",
   "metadata": {
    "id": "RmUfZrm_m1uu"
   },
   "source": [
    "# **Visualization for the accuracy**"
   ]
  },
  {
   "cell_type": "code",
   "execution_count": 28,
   "metadata": {
    "colab": {
     "base_uri": "https://localhost:8080/",
     "height": 442
    },
    "id": "frqXGXBX0ao7",
    "outputId": "bc00feb3-4276-4f57-ad27-b304f669664f"
   },
   "outputs": [
    {
     "data": {
      "image/png": "[encoded data removed]",
      "text/plain": [
       "<Figure size 1500x500 with 1 Axes>"
      ]
     },
     "metadata": {},
     "output_type": "display_data"
    },
    {
     "name": "stdout",
     "output_type": "stream",
     "text": [
      "Best model:  Stacked Model\n"
     ]
    }
   ],
   "source": [
    "# Plot accuracy as bar chart\n",
    "import matplotlib.pyplot as plt\n",
    "plt.figure(figsize=(15,5))\n",
    "plt.bar(results.keys(), results.values())\n",
    "plt.title(\"Model Accuracy\")\n",
    "plt.ylabel(\"Accuracy (%)\")\n",
    "plt.show()\n",
    "\n",
    "print(\"Best model: \", max(results, key=results.get))"
   ]
  },
  {
   "cell_type": "markdown",
   "metadata": {
    "id": "HLXwYA_EzmuR"
   },
   "source": [
    "# **Testing the Test file**"
   ]
  },
  {
   "cell_type": "code",
   "execution_count": 29,
   "metadata": {
    "id": "rCuqsmRsx8Jc"
   },
   "outputs": [],
   "source": [
    "# Load test data\n",
    "test_df = pd.read_csv('test.csv')\n",
    "test_df = test_df.drop(columns=['Gender','Age'])\n",
    "\n",
    "test_df['Personality (class label)'] = test_df['Personality (class label)'].map({'dependable':0, 'extraverted':1, 'lively':2, 'responsible':3, 'serious':4})\n",
    "X_test_unseen = test_df.drop('Personality (class label)', axis=1)\n",
    "X_test_unseen = scaler.transform(X_test_unseen)\n",
    "y_test_unseen = test_df['Personality (class label)']"
   ]
  },
  {
   "cell_type": "code",
   "execution_count": 30,
   "metadata": {
    "id": "iceXM2TRyjDu"
   },
   "outputs": [],
   "source": [
    "models = [nb, xgb , knn, rf, best_model]\n",
    "# Dictionary to store results\n",
    "results = {}\n",
    "y_pred_li = []\n",
    "for model in models:\n",
    "   y_pred = model.predict(X_test_unseen)\n",
    "   y_pred_li.append(y_pred)\n",
    "   acc = accuracy_score(y_test_unseen, y_pred)\n",
    "   results[model.__class__.__name__] = acc"
   ]
  },
  {
   "cell_type": "code",
   "execution_count": 31,
   "metadata": {
    "id": "9Mn4BB53zUG3"
   },
   "outputs": [],
   "source": [
    "y_pred_final = [mode(y)[0][0] for y in zip(*y_pred_li)]\n",
    "accuracy = accuracy_score(y_test_unseen, y_pred_final)\n",
    "results[\"Ensambling\"] = accuracy"
   ]
  },
  {
   "cell_type": "code",
   "execution_count": 32,
   "metadata": {
    "id": "wupJ_JCMzX3Q"
   },
   "outputs": [],
   "source": [
    "X_meta = np.column_stack(y_pred_li)"
   ]
  },
  {
   "cell_type": "code",
   "execution_count": 33,
   "metadata": {
    "id": "ACz-S-7izdpe"
   },
   "outputs": [],
   "source": [
    "y_pred = stacked_model.predict(X_meta)\n",
    "\n",
    "acc = accuracy_score(y_test_unseen, y_pred)\n",
    "results['Stacked Model'] = acc"
   ]
  },
  {
   "cell_type": "code",
   "execution_count": 34,
   "metadata": {
    "colab": {
     "base_uri": "https://localhost:8080/",
     "height": 343
    },
    "id": "HEKVE7Lizisb",
    "outputId": "aa9eb774-7a80-494f-c574-eee5a4b3db86"
   },
   "outputs": [
    {
     "data": {
      "image/png": "[encoded data removed]",
      "text/plain": [
       "<Figure size 2000x500 with 1 Axes>"
      ]
     },
     "metadata": {},
     "output_type": "display_data"
    },
    {
     "name": "stdout",
     "output_type": "stream",
     "text": [
      "Best model:  Stacked Model\n"
     ]
    }
   ],
   "source": [
    "# Plot accuracy as bar chart\n",
    "import matplotlib.pyplot as plt\n",
    "plt.figure(figsize=(20,5))\n",
    "plt.bar(results.keys(), results.values())\n",
    "plt.title(\"Model Accuracy\")\n",
    "plt.ylabel(\"Accuracy (%)\")\n",
    "plt.show()\n",
    "\n",
    "print(\"Best model: \", max(results, key=results.get))"
   ]
  },
  {
   "cell_type": "markdown",
   "metadata": {
    "id": "gWujIBKFz7Cc"
   },
   "source": [
    "After training our model on all of the algorithms, we realised that our predictions turned out to be rather poor. Even best models could only find an accuracy of about 30 percent."
   ]
  },
  {
   "cell_type": "markdown",
   "metadata": {
    "id": "ZQwp9nMq2FU8"
   },
   "source": [
    "# now reading the csv that we made from Resume_analyser"
   ]
  },
  {
   "cell_type": "code",
   "execution_count": 43,
   "metadata": {
    "id": "K1Zrfbrk_4C2"
   },
   "outputs": [],
   "source": [
    "class ResumeAnalyzer:\n",
    "\n",
    "    def __init__(self):\n",
    "        self.nlp = spacy.load('en_core_web_sm')\n",
    "\n",
    "    def load_resume(self, file_path):\n",
    "        ext = os.path.splitext(file_path)[1].lower()\n",
    "\n",
    "        if ext == '.pdf':\n",
    "            pdfFileObj = open(file_path, 'rb')\n",
    "            pdfReader = PyPDF2.PdfReader(pdfFileObj)\n",
    "            page = pdfReader.pages[0]\n",
    "            return page.extract_text()\n",
    "\n",
    "        elif ext == '.doc' or ext == '.docx':\n",
    "            return textract.process(file_path).decode('utf-8')\n",
    "\n",
    "        elif ext == '.txt':\n",
    "            with open(file_path) as f:\n",
    "                return f.read()\n",
    "\n",
    "        else:\n",
    "            raise Exception(\"Unsupported file type\")\n",
    "\n",
    "    def process_resume(self, file_path):\n",
    "        resume_text = self.load_resume(file_path)\n",
    "\n",
    "        doc = self.nlp(resume_text)\n",
    "\n",
    "        resume = ResumeParser(file_path).get_extracted_data()\n",
    "        skills = resume.get('skills')\n",
    "\n",
    "        work_experience = resume.get('experience')\n",
    "\n",
    "        name = resume.get('name')\n",
    "        email = resume.get('email')\n",
    "\n",
    "        summary = None\n",
    "        objective = None\n",
    "        prof_summary = None\n",
    "        exp_summary = None\n",
    "\n",
    "        for sent in doc.sents:\n",
    "            if 'objective' in sent.text.lower():\n",
    "                objective = sent.text\n",
    "\n",
    "            if 'summary' in sent.text.lower():\n",
    "                summary = sent.text\n",
    "\n",
    "            if 'professional summary' in sent.text.lower() or 'profile' in sent.text.lower():\n",
    "                prof_summary = sent.text\n",
    "\n",
    "            if 'experience summary' in sent.text.lower():\n",
    "                exp_summary = sent.text\n",
    "\n",
    "        return {\n",
    "            'name': name,\n",
    "            'email': email,\n",
    "            'skills': skills,\n",
    "            'experience': work_experience,\n",
    "            'objective': objective,\n",
    "            'summary': summary,\n",
    "            'prof_summary': prof_summary,\n",
    "            'exp_summary': exp_summary,\n",
    "        }\n",
    "\n",
    "    def process_folder(self, folder_path, output_file):\n",
    "        with open(output_file, 'w', encoding='utf-8') as csvfile:\n",
    "            writer = csv.DictWriter(csvfile, fieldnames=['name', 'email', 'skills', 'experience', 'objective', 'summary', 'prof_summary', 'exp_summary'])\n",
    "            writer.writeheader()\n",
    "\n",
    "            for file in os.listdir(folder_path):\n",
    "                if file.endswith('.pdf') or file.endswith('.docx'):\n",
    "                    file_path = os.path.join(folder_path, file)\n",
    "                    resume_data = self.process_resume(file_path)\n",
    "                    writer.writerow(resume_data)"
   ]
  },
  {
   "cell_type": "code",
   "execution_count": 44,
   "metadata": {
    "id": "sZACYG4lMLgo"
   },
   "outputs": [
    {
     "name": "stdout",
     "output_type": "stream",
     "text": [
      "None\n"
     ]
    }
   ],
   "source": [
    "analyzer = ResumeAnalyzer()\n",
    "analyzer.process_folder('C://Users//Ziad Elhady//Personality Prediction System via CV Analysis/Resume','ouptut.csv')"
   ]
  },
  {
   "cell_type": "markdown",
   "metadata": {},
   "source": [
    "# **Now we will read our output csv we made and Extract The important features To get to the model**  "
   ]
  },
  {
   "cell_type": "code",
   "execution_count": 47,
   "metadata": {
    "id": "BLImmmRe1nNp"
   },
   "outputs": [],
   "source": [
    "df2 = pd.read_csv('ouptut.csv')"
   ]
  },
  {
   "cell_type": "code",
   "execution_count": 48,
   "metadata": {
    "colab": {
     "base_uri": "https://localhost:8080/",
     "height": 1000
    },
    "id": "rI3Y9h0r2QpM",
    "outputId": "93be3e35-b33d-4c65-a877-b705f35545b6"
   },
   "outputs": [
    {
     "data": {
      "text/html": [
       "<div>\n",
       "<style scoped>\n",
       "    .dataframe tbody tr th:only-of-type {\n",
       "        vertical-align: middle;\n",
       "    }\n",
       "\n",
       "    .dataframe tbody tr th {\n",
       "        vertical-align: top;\n",
       "    }\n",
       "\n",
       "    .dataframe thead th {\n",
       "        text-align: right;\n",
       "    }\n",
       "</style>\n",
       "<table border=\"1\" class=\"dataframe\">\n",
       "  <thead>\n",
       "    <tr style=\"text-align: right;\">\n",
       "      <th></th>\n",
       "      <th>name</th>\n",
       "      <th>email</th>\n",
       "      <th>skills</th>\n",
       "      <th>experience</th>\n",
       "      <th>objective</th>\n",
       "      <th>summary</th>\n",
       "      <th>prof_summary</th>\n",
       "      <th>exp_summary</th>\n",
       "    </tr>\n",
       "  </thead>\n",
       "  <tbody>\n",
       "    <tr>\n",
       "      <th>0</th>\n",
       "      <td>ANUVA GOYAL</td>\n",
       "      <td>anuvagoyal111@gmail.com</td>\n",
       "      <td>['Html', 'Sql', 'Pytesseract', 'Computer scien...</td>\n",
       "      <td>['Software’s: PyCharm, Jupyter Notebook, Googl...</td>\n",
       "      <td>Female    \\r\\nOBJECTIVE  \\r\\n \\r\\nEnergetic, i...</td>\n",
       "      <td>NaN</td>\n",
       "      <td>NaN</td>\n",
       "      <td>NaN</td>\n",
       "    </tr>\n",
       "    <tr>\n",
       "      <th>1</th>\n",
       "      <td>Name:</td>\n",
       "      <td>abiral.pandey88@gmail.com</td>\n",
       "      <td>['Html', 'Nosql', 'Sql', 'Pattern', 'Jsp', 'Do...</td>\n",
       "      <td>[]</td>\n",
       "      <td>NaN</td>\n",
       "      <td>Visa Status: US Citizen\\r\\n\\r\\n\\r\\n\\r\\nSUMMARY...</td>\n",
       "      <td>NaN</td>\n",
       "      <td>NaN</td>\n",
       "    </tr>\n",
       "    <tr>\n",
       "      <th>2</th>\n",
       "      <td>Achyuth 540</td>\n",
       "      <td>achyuth.java88@gmail.com</td>\n",
       "      <td>['Banking', 'Mortgage', 'Automation', 'Db2', '...</td>\n",
       "      <td>NaN</td>\n",
       "      <td>achyuth.java88@gmail.com\\r\\n\\r\\n\\r\\n\\r\\nOBJECT...</td>\n",
       "      <td>PROFESSIONAL SUMMARY:\\r\\n\\r\\n\\t</td>\n",
       "      <td>PROFESSIONAL SUMMARY:\\r\\n\\r\\n\\t</td>\n",
       "      <td>NaN</td>\n",
       "    </tr>\n",
       "    <tr>\n",
       "      <th>3</th>\n",
       "      <td>Adelina Erimia</td>\n",
       "      <td>erimia@msn.com</td>\n",
       "      <td>['Branding', 'Green', 'Legal', 'Design', 'Real...</td>\n",
       "      <td>NaN</td>\n",
       "      <td>▪ Developing marketing plan and objectives and...</td>\n",
       "      <td>NaN</td>\n",
       "      <td>NaN</td>\n",
       "      <td>NaN</td>\n",
       "    </tr>\n",
       "    <tr>\n",
       "      <th>4</th>\n",
       "      <td>Adhi Gopalam adhigopalam@gmail.com</td>\n",
       "      <td>adhigopalam@gmail.com</td>\n",
       "      <td>['Banking', 'Automation', 'Auditing', 'Migrati...</td>\n",
       "      <td>NaN</td>\n",
       "      <td>NaN</td>\n",
       "      <td>NaN</td>\n",
       "      <td>NaN</td>\n",
       "      <td>NaN</td>\n",
       "    </tr>\n",
       "    <tr>\n",
       "      <th>5</th>\n",
       "      <td>Ajay Kumar</td>\n",
       "      <td>ajaydt@gmail.com</td>\n",
       "      <td>['Banking', 'Automation', 'Business intelligen...</td>\n",
       "      <td>NaN</td>\n",
       "      <td>Responsible for all SLA (Service Level Agreeme...</td>\n",
       "      <td>Track and prepare the report of testing activi...</td>\n",
       "      <td>Quality Plan documentation, involved in Projec...</td>\n",
       "      <td>NaN</td>\n",
       "    </tr>\n",
       "    <tr>\n",
       "      <th>6</th>\n",
       "      <td>Akhil                                         ...</td>\n",
       "      <td>akhil.mohan0109@gmail.com</td>\n",
       "      <td>['Banking', 'Green', 'Mock', 'Automation', 'Sd...</td>\n",
       "      <td>NaN</td>\n",
       "      <td>Participated in preparing the project scope an...</td>\n",
       "      <td>Professional Summary:\\r\\n\\r\\n</td>\n",
       "      <td>Professional Summary:\\r\\n\\r\\n</td>\n",
       "      <td>NaN</td>\n",
       "    </tr>\n",
       "    <tr>\n",
       "      <th>7</th>\n",
       "      <td>Akhil                                         ...</td>\n",
       "      <td>akhil.mohan0109@gmail.com</td>\n",
       "      <td>['Banking', 'Green', 'Mock', 'Automation', 'Sd...</td>\n",
       "      <td>NaN</td>\n",
       "      <td>Participated in preparing the project scope an...</td>\n",
       "      <td>Professional Summary:\\r\\n\\r\\n</td>\n",
       "      <td>Professional Summary:\\r\\n\\r\\n</td>\n",
       "      <td>NaN</td>\n",
       "    </tr>\n",
       "    <tr>\n",
       "      <th>8</th>\n",
       "      <td>Alekhya (</td>\n",
       "      <td>alekhya.workmail@gmail.com</td>\n",
       "      <td>['Banking', 'Automation', 'Db2', 'Auditing', '...</td>\n",
       "      <td>NaN</td>\n",
       "      <td>NaN</td>\n",
       "      <td>NaN</td>\n",
       "      <td>NaN</td>\n",
       "      <td>NaN</td>\n",
       "    </tr>\n",
       "    <tr>\n",
       "      <th>9</th>\n",
       "      <td>Amar Amar.srbsa@gmail.com</td>\n",
       "      <td>Amar.srbsa@gmail.com</td>\n",
       "      <td>['Banking', 'Financial reporting', 'Mortgage',...</td>\n",
       "      <td>NaN</td>\n",
       "      <td>Self-Motivated and Objective driven profession...</td>\n",
       "      <td>Professional Summary:\\r\\n\\r\\n</td>\n",
       "      <td>The project aimed at building software that wo...</td>\n",
       "      <td>NaN</td>\n",
       "    </tr>\n",
       "    <tr>\n",
       "      <th>10</th>\n",
       "      <td>Ami Jape 50 GRAHAM</td>\n",
       "      <td>Ami.ITManager@gmail.com</td>\n",
       "      <td>['Banking', 'Automation', 'Sdlc', 'Pl/sql', 'M...</td>\n",
       "      <td>NaN</td>\n",
       "      <td>NY\\r\\n\\r\\nAnalyzed company financial, valuatio...</td>\n",
       "      <td>Summary:\\r\\n\\r\\n</td>\n",
       "      <td>high profile M&amp;A.\\r\\n\\r\\nManaged Project Manag...</td>\n",
       "      <td>NaN</td>\n",
       "    </tr>\n",
       "    <tr>\n",
       "      <th>11</th>\n",
       "      <td>Amrinder Pelia</td>\n",
       "      <td>amirindersingh1234@gmail.com</td>\n",
       "      <td>['Banking', 'Sql', 'Health', 'Html', 'Schedule...</td>\n",
       "      <td>NaN</td>\n",
       "      <td>Provided assistance in reviewing, analyzing an...</td>\n",
       "      <td>Summary:\\r\\n\\r\\n\\r\\n\\r\\n</td>\n",
       "      <td>NaN</td>\n",
       "      <td>NaN</td>\n",
       "    </tr>\n",
       "    <tr>\n",
       "      <th>12</th>\n",
       "      <td>AMULYA KOMATINENI</td>\n",
       "      <td>amulya.javadeveloper@gmail.com</td>\n",
       "      <td>['Banking', 'Green', 'Automation', 'Db2', 'Aws...</td>\n",
       "      <td>NaN</td>\n",
       "      <td>NaN</td>\n",
       "      <td>PROFESSIONAL SUMMARY:\\r\\n\\r\\n</td>\n",
       "      <td>PROFESSIONAL SUMMARY:\\r\\n\\r\\n</td>\n",
       "      <td>NaN</td>\n",
       "    </tr>\n",
       "    <tr>\n",
       "      <th>13</th>\n",
       "      <td>Anil Krishna Mogalaturthi</td>\n",
       "      <td>Krish.java23@gmail.com</td>\n",
       "      <td>['Mock', 'Automation', 'Db2', 'Aws', 'Migratio...</td>\n",
       "      <td>NaN</td>\n",
       "      <td>The objective of the project is to develop a p...</td>\n",
       "      <td>Professional Summary\\r\\n\\r\\n</td>\n",
       "      <td>Environment: Core Java, J2EE, JSP, HTML, CSS, ...</td>\n",
       "      <td>NaN</td>\n",
       "    </tr>\n",
       "    <tr>\n",
       "      <th>14</th>\n",
       "      <td>Anil Agarwal</td>\n",
       "      <td>Email:ramakrishna@infoservicesllc.com</td>\n",
       "      <td>['Banking', 'Sql', 'Health', 'Variances', 'Upd...</td>\n",
       "      <td>NaN</td>\n",
       "      <td>The other objective of this project being was ...</td>\n",
       "      <td>Email:ramakrishna@infoservicesllc.com\\r\\n\\r\\n\\...</td>\n",
       "      <td>Account Management Planner (AMP) Profiler-Web ...</td>\n",
       "      <td>NaN</td>\n",
       "    </tr>\n",
       "    <tr>\n",
       "      <th>15</th>\n",
       "      <td>Anudeep Sr Java Programmer anudeepreddynallama...</td>\n",
       "      <td>anudeepreddynallamada@gmail.com</td>\n",
       "      <td>['Html', 'Sql', 'Pattern', 'Jsp', 'Documentati...</td>\n",
       "      <td>NaN</td>\n",
       "      <td>NaN</td>\n",
       "      <td>Professional Summary:\\r\\n\\r\\n\\t</td>\n",
       "      <td>Professional Summary:\\r\\n\\r\\n\\t</td>\n",
       "      <td>NaN</td>\n",
       "    </tr>\n",
       "    <tr>\n",
       "      <th>16</th>\n",
       "      <td>Remote Remote</td>\n",
       "      <td>anuvagoyal111@gmail.com</td>\n",
       "      <td>['Architecture', 'Sql', 'Html', 'C', 'Opencv',...</td>\n",
       "      <td>['SummerIntern', 'GenisupIndiaPvt. Ltd.,Hosur,...</td>\n",
       "      <td>NaN</td>\n",
       "      <td>NaN</td>\n",
       "      <td>NaN</td>\n",
       "      <td>NaN</td>\n",
       "    </tr>\n",
       "    <tr>\n",
       "      <th>17</th>\n",
       "      <td>Ashok Jayakumar</td>\n",
       "      <td>Venkat@infoservicesllc.com</td>\n",
       "      <td>['Banking', 'Sql', 'Html', 'Health', 'Schedule...</td>\n",
       "      <td>NaN</td>\n",
       "      <td>NaN</td>\n",
       "      <td>CAREER SUMMARY\\r\\n\\r\\nManagement and maintenan...</td>\n",
       "      <td>NaN</td>\n",
       "      <td>NaN</td>\n",
       "    </tr>\n",
       "    <tr>\n",
       "      <th>18</th>\n",
       "      <td>[Type text</td>\n",
       "      <td>ashwinicha8@gmail.com</td>\n",
       "      <td>['Automation', 'Db2', 'Sdlc', 'Selenium', 'Pl/...</td>\n",
       "      <td>NaN</td>\n",
       "      <td>Objectives of securing confidentiality, integr...</td>\n",
       "      <td>Summary:\\r\\n\\r\\n\\r\\n\\r\\n</td>\n",
       "      <td>NaN</td>\n",
       "      <td>NaN</td>\n",
       "    </tr>\n",
       "    <tr>\n",
       "      <th>19</th>\n",
       "      <td>ATUL MATHUR</td>\n",
       "      <td>NaN</td>\n",
       "      <td>['Banking', 'Telecom', 'Profiling', 'Procureme...</td>\n",
       "      <td>NaN</td>\n",
       "      <td>NaN</td>\n",
       "      <td>ATUL MATHUR\\r\\n\\r\\n\\t\\t\\t\\r\\n\\r\\nPROFILE SUMMA...</td>\n",
       "      <td>An integral part of profile includes bringing ...</td>\n",
       "      <td>NaN</td>\n",
       "    </tr>\n",
       "    <tr>\n",
       "      <th>20</th>\n",
       "      <td>Avanthi Katta Sr. Business Analyst</td>\n",
       "      <td>sam@vishconsultingservices.com</td>\n",
       "      <td>['Health', 'Sql', 'Html', 'Legal', 'Documentat...</td>\n",
       "      <td>NaN</td>\n",
       "      <td>NaN</td>\n",
       "      <td>SUMMARY\\r\\n\\r\\n</td>\n",
       "      <td>PROFESSIONAL PROFILE\\r\\n\\r\\n\\r\\n\\r\\n\\r\\n\\r\\n\\r...</td>\n",
       "      <td>NaN</td>\n",
       "    </tr>\n",
       "    <tr>\n",
       "      <th>21</th>\n",
       "      <td>Avinash G</td>\n",
       "      <td>Avinash87.java@gmail.com</td>\n",
       "      <td>['Banking', 'Mock', 'Db2', 'Aws', 'Selenium', ...</td>\n",
       "      <td>NaN</td>\n",
       "      <td>NaN</td>\n",
       "      <td>SUMMARY:       \\r\\n\\r\\n</td>\n",
       "      <td>NaN</td>\n",
       "      <td>NaN</td>\n",
       "    </tr>\n",
       "    <tr>\n",
       "      <th>22</th>\n",
       "      <td>B Shaker</td>\n",
       "      <td>shaker.0516@gmail.com</td>\n",
       "      <td>['Banking', 'Data analytics', 'Mortgage', 'Mig...</td>\n",
       "      <td>NaN</td>\n",
       "      <td>Extensively interacted with the designers, dev...</td>\n",
       "      <td>Professional Summary:\\r\\n\\r\\n</td>\n",
       "      <td>Professional Summary:\\r\\n\\r\\n</td>\n",
       "      <td>NaN</td>\n",
       "    </tr>\n",
       "    <tr>\n",
       "      <th>23</th>\n",
       "      <td>Suresh Basetti</td>\n",
       "      <td>sureshkumar.basetti@gmail.com</td>\n",
       "      <td>['Automation', 'Db2', 'Aws', 'Sdlc', 'Scriptin...</td>\n",
       "      <td>NaN</td>\n",
       "      <td>NaN</td>\n",
       "      <td>Suresh Basetti  \\r\\n\\r\\n\\t\\tAgile Expert, Scru...</td>\n",
       "      <td>NaN</td>\n",
       "      <td>NaN</td>\n",
       "    </tr>\n",
       "    <tr>\n",
       "      <th>24</th>\n",
       "      <td>Abhishek Bhushan</td>\n",
       "      <td>NaN</td>\n",
       "      <td>['Banking', 'Mortgage', 'Automation', 'Aws', '...</td>\n",
       "      <td>NaN</td>\n",
       "      <td>Utilized Agile/ SCRUM and PMI methodologies to...</td>\n",
       "      <td>Professional Summary\\r\\n\\r\\n \\r\\n\\r\\n</td>\n",
       "      <td>Professional Summary\\r\\n\\r\\n \\r\\n\\r\\n</td>\n",
       "      <td>NaN</td>\n",
       "    </tr>\n",
       "    <tr>\n",
       "      <th>25</th>\n",
       "      <td>NAVNEET  407-</td>\n",
       "      <td>11baconsultant@outlook.com</td>\n",
       "      <td>['Erp', 'Mortgage', 'Automation', 'Sdlc', 'Scr...</td>\n",
       "      <td>NaN</td>\n",
       "      <td>NaN</td>\n",
       "      <td>-401-9023 / 11baconsultant@outlook.com\\r\\n\\r\\n...</td>\n",
       "      <td>NaN</td>\n",
       "      <td>NaN</td>\n",
       "    </tr>\n",
       "    <tr>\n",
       "      <th>26</th>\n",
       "      <td>KIRAN Business Analyst</td>\n",
       "      <td>NaN</td>\n",
       "      <td>['Banking', 'Mortgage', 'Automation', 'Sdlc', ...</td>\n",
       "      <td>[]</td>\n",
       "      <td>Collaborated with system architects, SMEs, Dev...</td>\n",
       "      <td>PROFESSIONAL SUMMARY\\r\\n\\r\\n</td>\n",
       "      <td>PROFESSIONAL SUMMARY\\r\\n\\r\\n</td>\n",
       "      <td>NaN</td>\n",
       "    </tr>\n",
       "    <tr>\n",
       "      <th>27</th>\n",
       "      <td>GOPI SID Email</td>\n",
       "      <td>gopi.siddb@gmail.com</td>\n",
       "      <td>['Banking', 'Sql', 'Html', 'Schedules', 'Tfs',...</td>\n",
       "      <td>NaN</td>\n",
       "      <td>Expertise in employing guidelines &amp; developing...</td>\n",
       "      <td>gopi.siddb@gmail.com Phone: (929)217-7347\\r\\n\\...</td>\n",
       "      <td>gopi.siddb@gmail.com Phone: (929)217-7347\\r\\n\\...</td>\n",
       "      <td>NaN</td>\n",
       "    </tr>\n",
       "    <tr>\n",
       "      <th>28</th>\n",
       "      <td>E-mail</td>\n",
       "      <td>balajigrealtek@gmail.com</td>\n",
       "      <td>['Banking', 'Migration', 'Sdlc', 'Scrum', 'Bud...</td>\n",
       "      <td>NaN</td>\n",
       "      <td>execute, and finalize projects within triple c...</td>\n",
       "      <td>Summary\\r\\n\\r\\n\\r\\n\\r\\n\\r\\n\\r\\n</td>\n",
       "      <td>NaN</td>\n",
       "      <td>NaN</td>\n",
       "    </tr>\n",
       "    <tr>\n",
       "      <th>29</th>\n",
       "      <td>Name: Balakrishna Sudabathula</td>\n",
       "      <td>bsudabathula@gmail.com</td>\n",
       "      <td>['Banking', 'Sql', 'Html', 'Nosql', 'Jsp', 'Tf...</td>\n",
       "      <td>NaN</td>\n",
       "      <td>NaN</td>\n",
       "      <td>PROFESSIONAL SUMMARY:\\r\\n\\r\\n\\r\\n\\r\\n</td>\n",
       "      <td>PROFESSIONAL SUMMARY:\\r\\n\\r\\n\\r\\n\\r\\n</td>\n",
       "      <td>NaN</td>\n",
       "    </tr>\n",
       "    <tr>\n",
       "      <th>30</th>\n",
       "      <td>Bapuji Sr</td>\n",
       "      <td>bapuji.dbj@gmail.com</td>\n",
       "      <td>['Sql', 'Nosql', 'Health', 'Html', 'Jsp', 'Doc...</td>\n",
       "      <td>[]</td>\n",
       "      <td>NaN</td>\n",
       "      <td>PROFESSIONAL SUMMARY:\\r\\n\\r\\n</td>\n",
       "      <td>PROFESSIONAL SUMMARY:\\r\\n\\r\\n</td>\n",
       "      <td>NaN</td>\n",
       "    </tr>\n",
       "    <tr>\n",
       "      <th>31</th>\n",
       "      <td>BHARAT ARORA</td>\n",
       "      <td>NaN</td>\n",
       "      <td>['Banking', 'Sql', 'Green', 'Legal', 'Erp', 'D...</td>\n",
       "      <td>NaN</td>\n",
       "      <td>NaN</td>\n",
       "      <td>732-917-4097\\t\\t\\t\\t\\t                  \\t\\t\\t...</td>\n",
       "      <td>NaN</td>\n",
       "      <td>NaN</td>\n",
       "    </tr>\n",
       "    <tr>\n",
       "      <th>32</th>\n",
       "      <td>Bharatha jyothi Bommireddy</td>\n",
       "      <td>chetan@kig-corp.com</td>\n",
       "      <td>['Banking', 'Sql', 'Variances', 'Documentation...</td>\n",
       "      <td>NaN</td>\n",
       "      <td>As a part of this project, provided support In...</td>\n",
       "      <td>PROFESSIONAL SUMMARY:\\r\\n\\r\\n\\r\\n\\r\\n</td>\n",
       "      <td>PROFESSIONAL SUMMARY:\\r\\n\\r\\n\\r\\n\\r\\n</td>\n",
       "      <td>NaN</td>\n",
       "    </tr>\n",
       "    <tr>\n",
       "      <th>33</th>\n",
       "      <td>Email ID</td>\n",
       "      <td>sam@vishconsultingservices.com</td>\n",
       "      <td>['Aws', 'Business intelligence', 'Sdlc', 'Trai...</td>\n",
       "      <td>NaN</td>\n",
       "      <td>Understanding service objectives and capturing...</td>\n",
       "      <td>Business System Analyst\\r\\n\\r\\n\\r\\n\\r\\nSummary:</td>\n",
       "      <td>NaN</td>\n",
       "      <td>NaN</td>\n",
       "    </tr>\n",
       "    <tr>\n",
       "      <th>34</th>\n",
       "      <td>Hyma Gumpu</td>\n",
       "      <td>danny@stackitprofessionals.com</td>\n",
       "      <td>['Mock', 'Automation', 'Migration', 'Sdlc', 'U...</td>\n",
       "      <td>NaN</td>\n",
       "      <td>The main objective of the project is to build ...</td>\n",
       "      <td>Profile Summary\\r\\n\\r\\n\\r\\n\\r\\n</td>\n",
       "      <td>Profile Summary\\r\\n\\r\\n\\r\\n\\r\\n</td>\n",
       "      <td>NaN</td>\n",
       "    </tr>\n",
       "    <tr>\n",
       "      <th>35</th>\n",
       "      <td>EVELYNN ADAMS</td>\n",
       "      <td>NaN</td>\n",
       "      <td>['P', 'C', 'R']</td>\n",
       "      <td>NaN</td>\n",
       "      <td>NaN</td>\n",
       "      <td>NaN</td>\n",
       "      <td>PROFESSIONAL PROFILE\\r\\n</td>\n",
       "      <td>NaN</td>\n",
       "    </tr>\n",
       "    <tr>\n",
       "      <th>36</th>\n",
       "      <td>Ryan Nelson</td>\n",
       "      <td>NaN</td>\n",
       "      <td>['C', 'Coding', 'Programming', 'Python', 'Try'...</td>\n",
       "      <td>['Accenture', 'Software Developer, Apr 2019 - ...</td>\n",
       "      <td>NaN</td>\n",
       "      <td>NaN</td>\n",
       "      <td>Executive Profile\\r\\n</td>\n",
       "      <td>NaN</td>\n",
       "    </tr>\n",
       "    <tr>\n",
       "      <th>37</th>\n",
       "      <td>Christian Von</td>\n",
       "      <td>NaN</td>\n",
       "      <td>['Statistical analysis', 'Data analysis', 'Web...</td>\n",
       "      <td>['R&amp;M Solutions', 'Data Analyst Intern, Dec 20...</td>\n",
       "      <td>NaN</td>\n",
       "      <td>NaN</td>\n",
       "      <td>Executive Profile\\r\\n</td>\n",
       "      <td>NaN</td>\n",
       "    </tr>\n",
       "    <tr>\n",
       "      <th>38</th>\n",
       "      <td>Chandler Robert Durairaj Joshua Business</td>\n",
       "      <td>chandler.neel@gmail.com</td>\n",
       "      <td>['Health', 'Sql', 'Html', 'Ios', 'Updates', 'S...</td>\n",
       "      <td>NaN</td>\n",
       "      <td>Worked closely with the end users and Conducte...</td>\n",
       "      <td>Skills Summary\\r\\n\\r\\n\\r\\n\\r\\nMicrosoft Tools\\...</td>\n",
       "      <td>NaN</td>\n",
       "      <td>NaN</td>\n",
       "    </tr>\n",
       "    <tr>\n",
       "      <th>39</th>\n",
       "      <td>CHENNA KESAVA Phone:</td>\n",
       "      <td>chennakesava231@gmail.com</td>\n",
       "      <td>['Automation', 'Db2', 'Aws', 'Sdlc', 'Selenium...</td>\n",
       "      <td>NaN</td>\n",
       "      <td>NaN</td>\n",
       "      <td>Email: chennakesava231@gmail.com\\r\\n\\r\\n\\r\\n\\r...</td>\n",
       "      <td>NaN</td>\n",
       "      <td>NaN</td>\n",
       "    </tr>\n",
       "    <tr>\n",
       "      <th>40</th>\n",
       "      <td>CHETAN BABU</td>\n",
       "      <td>booram.chai@gmail.com</td>\n",
       "      <td>['Html', 'Sql', 'Nosql', 'Green', 'Jsp', 'Docu...</td>\n",
       "      <td>NaN</td>\n",
       "      <td>NaN</td>\n",
       "      <td>Professional Summary:\\r\\n\\r\\n\\t\\t\\t\\tJava Deve...</td>\n",
       "      <td>Professional Summary:\\r\\n\\r\\n\\t\\t\\t\\tJava Deve...</td>\n",
       "      <td>NaN</td>\n",
       "    </tr>\n",
       "    <tr>\n",
       "      <th>41</th>\n",
       "      <td>Padmasri Dantu Bellevue</td>\n",
       "      <td>padmasri.vamsi@gmail.com</td>\n",
       "      <td>['Sql', 'Quality management', 'Schedules', 'Li...</td>\n",
       "      <td>NaN</td>\n",
       "      <td>NaN</td>\n",
       "      <td>NaN</td>\n",
       "      <td>NaN</td>\n",
       "      <td>NaN</td>\n",
       "    </tr>\n",
       "    <tr>\n",
       "      <th>42</th>\n",
       "      <td>Derik Howarth</td>\n",
       "      <td>derik.howarth@gmail.com</td>\n",
       "      <td>['Green', 'Ordering', 'Automation', 'Db2', 'Bu...</td>\n",
       "      <td>NaN</td>\n",
       "      <td>NaN</td>\n",
       "      <td>98101, Seattle, WA\\r\\n\\r\\n\\r\\n\\r\\n\\r\\n\\r\\nPROF...</td>\n",
       "      <td>98101, Seattle, WA\\r\\n\\r\\n\\r\\n\\r\\n\\r\\n\\r\\nPROF...</td>\n",
       "      <td>NaN</td>\n",
       "    </tr>\n",
       "    <tr>\n",
       "      <th>43</th>\n",
       "      <td>Deepika</td>\n",
       "      <td>chintalapatideepika@gmail.com</td>\n",
       "      <td>['Health', 'Sql', 'Profiling', 'Schedules', 'U...</td>\n",
       "      <td>NaN</td>\n",
       "      <td>Documenting requirements, define scope and obj...</td>\n",
       "      <td>SKILL SUMMARY: -\\r\\n\\r\\n\\t\\t\\t\\r\\n\\r\\nOracle D...</td>\n",
       "      <td>NaN</td>\n",
       "      <td>NaN</td>\n",
       "    </tr>\n",
       "    <tr>\n",
       "      <th>44</th>\n",
       "      <td>Deepika</td>\n",
       "      <td>chintalapatideepika@gmail.com</td>\n",
       "      <td>['Health', 'Sql', 'Profiling', 'Schedules', 'L...</td>\n",
       "      <td>NaN</td>\n",
       "      <td>Maintain continuous alignment of program scope...</td>\n",
       "      <td>SKILL SUMMARY: -\\r\\n\\r\\n\\t\\t\\t\\r\\n\\r\\nOracle D...</td>\n",
       "      <td>Database Security Administration using Roles, ...</td>\n",
       "      <td>NaN</td>\n",
       "    </tr>\n",
       "    <tr>\n",
       "      <th>45</th>\n",
       "      <td>Derik Howarth</td>\n",
       "      <td>derik.howarth@gmail.com</td>\n",
       "      <td>['Green', 'Ordering', 'Automation', 'Db2', 'Bu...</td>\n",
       "      <td>NaN</td>\n",
       "      <td>NaN</td>\n",
       "      <td>98101, Seattle, WA\\r\\n\\r\\n\\r\\n\\r\\n\\r\\n\\r\\nPROF...</td>\n",
       "      <td>98101, Seattle, WA\\r\\n\\r\\n\\r\\n\\r\\n\\r\\n\\r\\nPROF...</td>\n",
       "      <td>NaN</td>\n",
       "    </tr>\n",
       "    <tr>\n",
       "      <th>46</th>\n",
       "      <td>Dhanalaxmi Sangole</td>\n",
       "      <td>sam@vishconsultingservices.com</td>\n",
       "      <td>['Sql', 'Health', 'Legal', 'Procurement', 'Doc...</td>\n",
       "      <td>NaN</td>\n",
       "      <td>Define project goals, objectives and success c...</td>\n",
       "      <td>Professional Summary: \\r\\n\\r\\n\\t\\t</td>\n",
       "      <td>Professional Summary: \\r\\n\\r\\n\\t\\t</td>\n",
       "      <td>NaN</td>\n",
       "    </tr>\n",
       "    <tr>\n",
       "      <th>47</th>\n",
       "      <td>Drakshayani.S</td>\n",
       "      <td>drakshajavauidev93@gmail.com</td>\n",
       "      <td>['Banking', 'Db2', 'Aws', 'Sdlc', 'Scripting',...</td>\n",
       "      <td>NaN</td>\n",
       "      <td>NaN</td>\n",
       "      <td>SUMMARY:\\r\\n\\r\\n</td>\n",
       "      <td>(Memory Debugger, profiler),Squirrel SQL Clien...</td>\n",
       "      <td>NaN</td>\n",
       "    </tr>\n",
       "    <tr>\n",
       "      <th>48</th>\n",
       "      <td>Full Name  Mounika Kalmekolan E</td>\n",
       "      <td>Mounika10200@gmail.com</td>\n",
       "      <td>['System']</td>\n",
       "      <td>NaN</td>\n",
       "      <td>NaN</td>\n",
       "      <td>NaN</td>\n",
       "      <td>LinkedIn Profile Link:\\r\\n\\r\\n \\r\\n\\r\\nWork Au...</td>\n",
       "      <td>NaN</td>\n",
       "    </tr>\n",
       "    <tr>\n",
       "      <th>49</th>\n",
       "      <td>Francis Gomes</td>\n",
       "      <td>chitra@cloudpointamerica.com,</td>\n",
       "      <td>['Networking', 'Economics', 'Design', 'Invoici...</td>\n",
       "      <td>NaN</td>\n",
       "      <td>NaN</td>\n",
       "      <td>Professional summary  \\r\\n\\r\\n16 + years of ex...</td>\n",
       "      <td>Professional summary  \\r\\n\\r\\n16 + years of ex...</td>\n",
       "      <td>NaN</td>\n",
       "    </tr>\n",
       "  </tbody>\n",
       "</table>\n",
       "</div>"
      ],
      "text/plain": [
       "                                                 name  \\\n",
       "0                                         ANUVA GOYAL   \n",
       "1                                               Name:   \n",
       "2                                         Achyuth 540   \n",
       "3                                      Adelina Erimia   \n",
       "4                  Adhi Gopalam adhigopalam@gmail.com   \n",
       "5                                          Ajay Kumar   \n",
       "6   Akhil                                         ...   \n",
       "7   Akhil                                         ...   \n",
       "8                                           Alekhya (   \n",
       "9                           Amar Amar.srbsa@gmail.com   \n",
       "10                                 Ami Jape 50 GRAHAM   \n",
       "11                                     Amrinder Pelia   \n",
       "12                                  AMULYA KOMATINENI   \n",
       "13                          Anil Krishna Mogalaturthi   \n",
       "14                                       Anil Agarwal   \n",
       "15  Anudeep Sr Java Programmer anudeepreddynallama...   \n",
       "16                                      Remote Remote   \n",
       "17                                    Ashok Jayakumar   \n",
       "18                                         [Type text   \n",
       "19                                        ATUL MATHUR   \n",
       "20                 Avanthi Katta Sr. Business Analyst   \n",
       "21                                          Avinash G   \n",
       "22                                           B Shaker   \n",
       "23                                     Suresh Basetti   \n",
       "24                                   Abhishek Bhushan   \n",
       "25                                      NAVNEET  407-   \n",
       "26                             KIRAN Business Analyst   \n",
       "27                                     GOPI SID Email   \n",
       "28                                             E-mail   \n",
       "29                      Name: Balakrishna Sudabathula   \n",
       "30                                          Bapuji Sr   \n",
       "31                                       BHARAT ARORA   \n",
       "32                         Bharatha jyothi Bommireddy   \n",
       "33                                           Email ID   \n",
       "34                                         Hyma Gumpu   \n",
       "35                                      EVELYNN ADAMS   \n",
       "36                                        Ryan Nelson   \n",
       "37                                      Christian Von   \n",
       "38           Chandler Robert Durairaj Joshua Business   \n",
       "39                               CHENNA KESAVA Phone:   \n",
       "40                                        CHETAN BABU   \n",
       "41                            Padmasri Dantu Bellevue   \n",
       "42                                      Derik Howarth   \n",
       "43                                    Deepika           \n",
       "44                                    Deepika           \n",
       "45                                      Derik Howarth   \n",
       "46                                 Dhanalaxmi Sangole   \n",
       "47                                      Drakshayani.S   \n",
       "48                    Full Name  Mounika Kalmekolan E   \n",
       "49                                      Francis Gomes   \n",
       "\n",
       "                                    email  \\\n",
       "0                 anuvagoyal111@gmail.com   \n",
       "1               abiral.pandey88@gmail.com   \n",
       "2                achyuth.java88@gmail.com   \n",
       "3                          erimia@msn.com   \n",
       "4                   adhigopalam@gmail.com   \n",
       "5                        ajaydt@gmail.com   \n",
       "6               akhil.mohan0109@gmail.com   \n",
       "7               akhil.mohan0109@gmail.com   \n",
       "8              alekhya.workmail@gmail.com   \n",
       "9                    Amar.srbsa@gmail.com   \n",
       "10                Ami.ITManager@gmail.com   \n",
       "11           amirindersingh1234@gmail.com   \n",
       "12         amulya.javadeveloper@gmail.com   \n",
       "13                 Krish.java23@gmail.com   \n",
       "14  Email:ramakrishna@infoservicesllc.com   \n",
       "15        anudeepreddynallamada@gmail.com   \n",
       "16                anuvagoyal111@gmail.com   \n",
       "17             Venkat@infoservicesllc.com   \n",
       "18                  ashwinicha8@gmail.com   \n",
       "19                                    NaN   \n",
       "20         sam@vishconsultingservices.com   \n",
       "21               Avinash87.java@gmail.com   \n",
       "22                  shaker.0516@gmail.com   \n",
       "23          sureshkumar.basetti@gmail.com   \n",
       "24                                    NaN   \n",
       "25             11baconsultant@outlook.com   \n",
       "26                                    NaN   \n",
       "27                   gopi.siddb@gmail.com   \n",
       "28               balajigrealtek@gmail.com   \n",
       "29                 bsudabathula@gmail.com   \n",
       "30                   bapuji.dbj@gmail.com   \n",
       "31                                    NaN   \n",
       "32                    chetan@kig-corp.com   \n",
       "33         sam@vishconsultingservices.com   \n",
       "34         danny@stackitprofessionals.com   \n",
       "35                                    NaN   \n",
       "36                                    NaN   \n",
       "37                                    NaN   \n",
       "38                chandler.neel@gmail.com   \n",
       "39              chennakesava231@gmail.com   \n",
       "40                  booram.chai@gmail.com   \n",
       "41               padmasri.vamsi@gmail.com   \n",
       "42                derik.howarth@gmail.com   \n",
       "43          chintalapatideepika@gmail.com   \n",
       "44          chintalapatideepika@gmail.com   \n",
       "45                derik.howarth@gmail.com   \n",
       "46         sam@vishconsultingservices.com   \n",
       "47           drakshajavauidev93@gmail.com   \n",
       "48                 Mounika10200@gmail.com   \n",
       "49          chitra@cloudpointamerica.com,   \n",
       "\n",
       "                                               skills  \\\n",
       "0   ['Html', 'Sql', 'Pytesseract', 'Computer scien...   \n",
       "1   ['Html', 'Nosql', 'Sql', 'Pattern', 'Jsp', 'Do...   \n",
       "2   ['Banking', 'Mortgage', 'Automation', 'Db2', '...   \n",
       "3   ['Branding', 'Green', 'Legal', 'Design', 'Real...   \n",
       "4   ['Banking', 'Automation', 'Auditing', 'Migrati...   \n",
       "5   ['Banking', 'Automation', 'Business intelligen...   \n",
       "6   ['Banking', 'Green', 'Mock', 'Automation', 'Sd...   \n",
       "7   ['Banking', 'Green', 'Mock', 'Automation', 'Sd...   \n",
       "8   ['Banking', 'Automation', 'Db2', 'Auditing', '...   \n",
       "9   ['Banking', 'Financial reporting', 'Mortgage',...   \n",
       "10  ['Banking', 'Automation', 'Sdlc', 'Pl/sql', 'M...   \n",
       "11  ['Banking', 'Sql', 'Health', 'Html', 'Schedule...   \n",
       "12  ['Banking', 'Green', 'Automation', 'Db2', 'Aws...   \n",
       "13  ['Mock', 'Automation', 'Db2', 'Aws', 'Migratio...   \n",
       "14  ['Banking', 'Sql', 'Health', 'Variances', 'Upd...   \n",
       "15  ['Html', 'Sql', 'Pattern', 'Jsp', 'Documentati...   \n",
       "16  ['Architecture', 'Sql', 'Html', 'C', 'Opencv',...   \n",
       "17  ['Banking', 'Sql', 'Html', 'Health', 'Schedule...   \n",
       "18  ['Automation', 'Db2', 'Sdlc', 'Selenium', 'Pl/...   \n",
       "19  ['Banking', 'Telecom', 'Profiling', 'Procureme...   \n",
       "20  ['Health', 'Sql', 'Html', 'Legal', 'Documentat...   \n",
       "21  ['Banking', 'Mock', 'Db2', 'Aws', 'Selenium', ...   \n",
       "22  ['Banking', 'Data analytics', 'Mortgage', 'Mig...   \n",
       "23  ['Automation', 'Db2', 'Aws', 'Sdlc', 'Scriptin...   \n",
       "24  ['Banking', 'Mortgage', 'Automation', 'Aws', '...   \n",
       "25  ['Erp', 'Mortgage', 'Automation', 'Sdlc', 'Scr...   \n",
       "26  ['Banking', 'Mortgage', 'Automation', 'Sdlc', ...   \n",
       "27  ['Banking', 'Sql', 'Html', 'Schedules', 'Tfs',...   \n",
       "28  ['Banking', 'Migration', 'Sdlc', 'Scrum', 'Bud...   \n",
       "29  ['Banking', 'Sql', 'Html', 'Nosql', 'Jsp', 'Tf...   \n",
       "30  ['Sql', 'Nosql', 'Health', 'Html', 'Jsp', 'Doc...   \n",
       "31  ['Banking', 'Sql', 'Green', 'Legal', 'Erp', 'D...   \n",
       "32  ['Banking', 'Sql', 'Variances', 'Documentation...   \n",
       "33  ['Aws', 'Business intelligence', 'Sdlc', 'Trai...   \n",
       "34  ['Mock', 'Automation', 'Migration', 'Sdlc', 'U...   \n",
       "35                                    ['P', 'C', 'R']   \n",
       "36  ['C', 'Coding', 'Programming', 'Python', 'Try'...   \n",
       "37  ['Statistical analysis', 'Data analysis', 'Web...   \n",
       "38  ['Health', 'Sql', 'Html', 'Ios', 'Updates', 'S...   \n",
       "39  ['Automation', 'Db2', 'Aws', 'Sdlc', 'Selenium...   \n",
       "40  ['Html', 'Sql', 'Nosql', 'Green', 'Jsp', 'Docu...   \n",
       "41  ['Sql', 'Quality management', 'Schedules', 'Li...   \n",
       "42  ['Green', 'Ordering', 'Automation', 'Db2', 'Bu...   \n",
       "43  ['Health', 'Sql', 'Profiling', 'Schedules', 'U...   \n",
       "44  ['Health', 'Sql', 'Profiling', 'Schedules', 'L...   \n",
       "45  ['Green', 'Ordering', 'Automation', 'Db2', 'Bu...   \n",
       "46  ['Sql', 'Health', 'Legal', 'Procurement', 'Doc...   \n",
       "47  ['Banking', 'Db2', 'Aws', 'Sdlc', 'Scripting',...   \n",
       "48                                         ['System']   \n",
       "49  ['Networking', 'Economics', 'Design', 'Invoici...   \n",
       "\n",
       "                                           experience  \\\n",
       "0   ['Software’s: PyCharm, Jupyter Notebook, Googl...   \n",
       "1                                                  []   \n",
       "2                                                 NaN   \n",
       "3                                                 NaN   \n",
       "4                                                 NaN   \n",
       "5                                                 NaN   \n",
       "6                                                 NaN   \n",
       "7                                                 NaN   \n",
       "8                                                 NaN   \n",
       "9                                                 NaN   \n",
       "10                                                NaN   \n",
       "11                                                NaN   \n",
       "12                                                NaN   \n",
       "13                                                NaN   \n",
       "14                                                NaN   \n",
       "15                                                NaN   \n",
       "16  ['SummerIntern', 'GenisupIndiaPvt. Ltd.,Hosur,...   \n",
       "17                                                NaN   \n",
       "18                                                NaN   \n",
       "19                                                NaN   \n",
       "20                                                NaN   \n",
       "21                                                NaN   \n",
       "22                                                NaN   \n",
       "23                                                NaN   \n",
       "24                                                NaN   \n",
       "25                                                NaN   \n",
       "26                                                 []   \n",
       "27                                                NaN   \n",
       "28                                                NaN   \n",
       "29                                                NaN   \n",
       "30                                                 []   \n",
       "31                                                NaN   \n",
       "32                                                NaN   \n",
       "33                                                NaN   \n",
       "34                                                NaN   \n",
       "35                                                NaN   \n",
       "36  ['Accenture', 'Software Developer, Apr 2019 - ...   \n",
       "37  ['R&M Solutions', 'Data Analyst Intern, Dec 20...   \n",
       "38                                                NaN   \n",
       "39                                                NaN   \n",
       "40                                                NaN   \n",
       "41                                                NaN   \n",
       "42                                                NaN   \n",
       "43                                                NaN   \n",
       "44                                                NaN   \n",
       "45                                                NaN   \n",
       "46                                                NaN   \n",
       "47                                                NaN   \n",
       "48                                                NaN   \n",
       "49                                                NaN   \n",
       "\n",
       "                                            objective  \\\n",
       "0   Female    \\r\\nOBJECTIVE  \\r\\n \\r\\nEnergetic, i...   \n",
       "1                                                 NaN   \n",
       "2   achyuth.java88@gmail.com\\r\\n\\r\\n\\r\\n\\r\\nOBJECT...   \n",
       "3   ▪ Developing marketing plan and objectives and...   \n",
       "4                                                 NaN   \n",
       "5   Responsible for all SLA (Service Level Agreeme...   \n",
       "6   Participated in preparing the project scope an...   \n",
       "7   Participated in preparing the project scope an...   \n",
       "8                                                 NaN   \n",
       "9   Self-Motivated and Objective driven profession...   \n",
       "10  NY\\r\\n\\r\\nAnalyzed company financial, valuatio...   \n",
       "11  Provided assistance in reviewing, analyzing an...   \n",
       "12                                                NaN   \n",
       "13  The objective of the project is to develop a p...   \n",
       "14  The other objective of this project being was ...   \n",
       "15                                                NaN   \n",
       "16                                                NaN   \n",
       "17                                                NaN   \n",
       "18  Objectives of securing confidentiality, integr...   \n",
       "19                                                NaN   \n",
       "20                                                NaN   \n",
       "21                                                NaN   \n",
       "22  Extensively interacted with the designers, dev...   \n",
       "23                                                NaN   \n",
       "24  Utilized Agile/ SCRUM and PMI methodologies to...   \n",
       "25                                                NaN   \n",
       "26  Collaborated with system architects, SMEs, Dev...   \n",
       "27  Expertise in employing guidelines & developing...   \n",
       "28  execute, and finalize projects within triple c...   \n",
       "29                                                NaN   \n",
       "30                                                NaN   \n",
       "31                                                NaN   \n",
       "32  As a part of this project, provided support In...   \n",
       "33  Understanding service objectives and capturing...   \n",
       "34  The main objective of the project is to build ...   \n",
       "35                                                NaN   \n",
       "36                                                NaN   \n",
       "37                                                NaN   \n",
       "38  Worked closely with the end users and Conducte...   \n",
       "39                                                NaN   \n",
       "40                                                NaN   \n",
       "41                                                NaN   \n",
       "42                                                NaN   \n",
       "43  Documenting requirements, define scope and obj...   \n",
       "44  Maintain continuous alignment of program scope...   \n",
       "45                                                NaN   \n",
       "46  Define project goals, objectives and success c...   \n",
       "47                                                NaN   \n",
       "48                                                NaN   \n",
       "49                                                NaN   \n",
       "\n",
       "                                              summary  \\\n",
       "0                                                 NaN   \n",
       "1   Visa Status: US Citizen\\r\\n\\r\\n\\r\\n\\r\\nSUMMARY...   \n",
       "2                     PROFESSIONAL SUMMARY:\\r\\n\\r\\n\\t   \n",
       "3                                                 NaN   \n",
       "4                                                 NaN   \n",
       "5   Track and prepare the report of testing activi...   \n",
       "6                       Professional Summary:\\r\\n\\r\\n   \n",
       "7                       Professional Summary:\\r\\n\\r\\n   \n",
       "8                                                 NaN   \n",
       "9                       Professional Summary:\\r\\n\\r\\n   \n",
       "10                                   Summary:\\r\\n\\r\\n   \n",
       "11                           Summary:\\r\\n\\r\\n\\r\\n\\r\\n   \n",
       "12                      PROFESSIONAL SUMMARY:\\r\\n\\r\\n   \n",
       "13                       Professional Summary\\r\\n\\r\\n   \n",
       "14  Email:ramakrishna@infoservicesllc.com\\r\\n\\r\\n\\...   \n",
       "15                    Professional Summary:\\r\\n\\r\\n\\t   \n",
       "16                                                NaN   \n",
       "17  CAREER SUMMARY\\r\\n\\r\\nManagement and maintenan...   \n",
       "18                           Summary:\\r\\n\\r\\n\\r\\n\\r\\n   \n",
       "19  ATUL MATHUR\\r\\n\\r\\n\\t\\t\\t\\r\\n\\r\\nPROFILE SUMMA...   \n",
       "20                                    SUMMARY\\r\\n\\r\\n   \n",
       "21                            SUMMARY:       \\r\\n\\r\\n   \n",
       "22                      Professional Summary:\\r\\n\\r\\n   \n",
       "23  Suresh Basetti  \\r\\n\\r\\n\\t\\tAgile Expert, Scru...   \n",
       "24              Professional Summary\\r\\n\\r\\n \\r\\n\\r\\n   \n",
       "25  -401-9023 / 11baconsultant@outlook.com\\r\\n\\r\\n...   \n",
       "26                       PROFESSIONAL SUMMARY\\r\\n\\r\\n   \n",
       "27  gopi.siddb@gmail.com Phone: (929)217-7347\\r\\n\\...   \n",
       "28                    Summary\\r\\n\\r\\n\\r\\n\\r\\n\\r\\n\\r\\n   \n",
       "29              PROFESSIONAL SUMMARY:\\r\\n\\r\\n\\r\\n\\r\\n   \n",
       "30                      PROFESSIONAL SUMMARY:\\r\\n\\r\\n   \n",
       "31  732-917-4097\\t\\t\\t\\t\\t                  \\t\\t\\t...   \n",
       "32              PROFESSIONAL SUMMARY:\\r\\n\\r\\n\\r\\n\\r\\n   \n",
       "33    Business System Analyst\\r\\n\\r\\n\\r\\n\\r\\nSummary:   \n",
       "34                    Profile Summary\\r\\n\\r\\n\\r\\n\\r\\n   \n",
       "35                                                NaN   \n",
       "36                                                NaN   \n",
       "37                                                NaN   \n",
       "38  Skills Summary\\r\\n\\r\\n\\r\\n\\r\\nMicrosoft Tools\\...   \n",
       "39  Email: chennakesava231@gmail.com\\r\\n\\r\\n\\r\\n\\r...   \n",
       "40  Professional Summary:\\r\\n\\r\\n\\t\\t\\t\\tJava Deve...   \n",
       "41                                                NaN   \n",
       "42  98101, Seattle, WA\\r\\n\\r\\n\\r\\n\\r\\n\\r\\n\\r\\nPROF...   \n",
       "43  SKILL SUMMARY: -\\r\\n\\r\\n\\t\\t\\t\\r\\n\\r\\nOracle D...   \n",
       "44  SKILL SUMMARY: -\\r\\n\\r\\n\\t\\t\\t\\r\\n\\r\\nOracle D...   \n",
       "45  98101, Seattle, WA\\r\\n\\r\\n\\r\\n\\r\\n\\r\\n\\r\\nPROF...   \n",
       "46                 Professional Summary: \\r\\n\\r\\n\\t\\t   \n",
       "47                                   SUMMARY:\\r\\n\\r\\n   \n",
       "48                                                NaN   \n",
       "49  Professional summary  \\r\\n\\r\\n16 + years of ex...   \n",
       "\n",
       "                                         prof_summary exp_summary  \n",
       "0                                                 NaN         NaN  \n",
       "1                                                 NaN         NaN  \n",
       "2                     PROFESSIONAL SUMMARY:\\r\\n\\r\\n\\t         NaN  \n",
       "3                                                 NaN         NaN  \n",
       "4                                                 NaN         NaN  \n",
       "5   Quality Plan documentation, involved in Projec...         NaN  \n",
       "6                       Professional Summary:\\r\\n\\r\\n         NaN  \n",
       "7                       Professional Summary:\\r\\n\\r\\n         NaN  \n",
       "8                                                 NaN         NaN  \n",
       "9   The project aimed at building software that wo...         NaN  \n",
       "10  high profile M&A.\\r\\n\\r\\nManaged Project Manag...         NaN  \n",
       "11                                                NaN         NaN  \n",
       "12                      PROFESSIONAL SUMMARY:\\r\\n\\r\\n         NaN  \n",
       "13  Environment: Core Java, J2EE, JSP, HTML, CSS, ...         NaN  \n",
       "14  Account Management Planner (AMP) Profiler-Web ...         NaN  \n",
       "15                    Professional Summary:\\r\\n\\r\\n\\t         NaN  \n",
       "16                                                NaN         NaN  \n",
       "17                                                NaN         NaN  \n",
       "18                                                NaN         NaN  \n",
       "19  An integral part of profile includes bringing ...         NaN  \n",
       "20  PROFESSIONAL PROFILE\\r\\n\\r\\n\\r\\n\\r\\n\\r\\n\\r\\n\\r...         NaN  \n",
       "21                                                NaN         NaN  \n",
       "22                      Professional Summary:\\r\\n\\r\\n         NaN  \n",
       "23                                                NaN         NaN  \n",
       "24              Professional Summary\\r\\n\\r\\n \\r\\n\\r\\n         NaN  \n",
       "25                                                NaN         NaN  \n",
       "26                       PROFESSIONAL SUMMARY\\r\\n\\r\\n         NaN  \n",
       "27  gopi.siddb@gmail.com Phone: (929)217-7347\\r\\n\\...         NaN  \n",
       "28                                                NaN         NaN  \n",
       "29              PROFESSIONAL SUMMARY:\\r\\n\\r\\n\\r\\n\\r\\n         NaN  \n",
       "30                      PROFESSIONAL SUMMARY:\\r\\n\\r\\n         NaN  \n",
       "31                                                NaN         NaN  \n",
       "32              PROFESSIONAL SUMMARY:\\r\\n\\r\\n\\r\\n\\r\\n         NaN  \n",
       "33                                                NaN         NaN  \n",
       "34                    Profile Summary\\r\\n\\r\\n\\r\\n\\r\\n         NaN  \n",
       "35                           PROFESSIONAL PROFILE\\r\\n         NaN  \n",
       "36                              Executive Profile\\r\\n         NaN  \n",
       "37                              Executive Profile\\r\\n         NaN  \n",
       "38                                                NaN         NaN  \n",
       "39                                                NaN         NaN  \n",
       "40  Professional Summary:\\r\\n\\r\\n\\t\\t\\t\\tJava Deve...         NaN  \n",
       "41                                                NaN         NaN  \n",
       "42  98101, Seattle, WA\\r\\n\\r\\n\\r\\n\\r\\n\\r\\n\\r\\nPROF...         NaN  \n",
       "43                                                NaN         NaN  \n",
       "44  Database Security Administration using Roles, ...         NaN  \n",
       "45  98101, Seattle, WA\\r\\n\\r\\n\\r\\n\\r\\n\\r\\n\\r\\nPROF...         NaN  \n",
       "46                 Professional Summary: \\r\\n\\r\\n\\t\\t         NaN  \n",
       "47  (Memory Debugger, profiler),Squirrel SQL Clien...         NaN  \n",
       "48  LinkedIn Profile Link:\\r\\n\\r\\n \\r\\n\\r\\nWork Au...         NaN  \n",
       "49  Professional summary  \\r\\n\\r\\n16 + years of ex...         NaN  "
      ]
     },
     "execution_count": 48,
     "metadata": {},
     "output_type": "execute_result"
    }
   ],
   "source": [
    "df2.head(50)"
   ]
  },
  {
   "cell_type": "code",
   "execution_count": 49,
   "metadata": {
    "id": "g1BFurp2GdH1"
   },
   "outputs": [],
   "source": [
    "df2 = df2.fillna(' ')"
   ]
  },
  {
   "cell_type": "code",
   "execution_count": 50,
   "metadata": {
    "colab": {
     "base_uri": "https://localhost:8080/"
    },
    "id": "-7OPm35J7Fm4",
    "outputId": "e0144fa1-bb45-4b41-fff8-fa11f2f35ec6"
   },
   "outputs": [
    {
     "name": "stdout",
     "output_type": "stream",
     "text": [
      "2.3.5\n"
     ]
    }
   ],
   "source": [
    "print(spacy.__version__)"
   ]
  },
  {
   "cell_type": "markdown",
   "metadata": {},
   "source": [
    "**we will treat it as a single coloumn to make it easier for proccessing** "
   ]
  },
  {
   "cell_type": "code",
   "execution_count": 51,
   "metadata": {
    "id": "nP5Bw8goDUlb"
   },
   "outputs": [],
   "source": [
    "\n",
    "df2['single'] = df2['name'] + ' ' + df2['email'] + ' ' + df2['skills'] + ' ' + df2['experience'] + df2['objective'] + ' ' + df2['summary'] + ' ' +df2['prof_summary'] + ' ' +df2['exp_summary']\n"
   ]
  },
  {
   "cell_type": "code",
   "execution_count": 52,
   "metadata": {
    "id": "05xnZfHdE9ZT"
   },
   "outputs": [],
   "source": [
    "df2.drop(columns=['name' , 'email' ,\t'skills',\t'experience',\t'objective',\t'summary' ,\t'prof_summary' ,'exp_summary'], inplace=True)"
   ]
  },
  {
   "cell_type": "code",
   "execution_count": 53,
   "metadata": {
    "colab": {
     "base_uri": "https://localhost:8080/",
     "height": 206
    },
    "id": "g-lbv3hdFFWp",
    "outputId": "730199f0-b65a-40d8-a31c-fa73e6c12a92"
   },
   "outputs": [
    {
     "data": {
      "text/html": [
       "<div>\n",
       "<style scoped>\n",
       "    .dataframe tbody tr th:only-of-type {\n",
       "        vertical-align: middle;\n",
       "    }\n",
       "\n",
       "    .dataframe tbody tr th {\n",
       "        vertical-align: top;\n",
       "    }\n",
       "\n",
       "    .dataframe thead th {\n",
       "        text-align: right;\n",
       "    }\n",
       "</style>\n",
       "<table border=\"1\" class=\"dataframe\">\n",
       "  <thead>\n",
       "    <tr style=\"text-align: right;\">\n",
       "      <th></th>\n",
       "      <th>single</th>\n",
       "    </tr>\n",
       "  </thead>\n",
       "  <tbody>\n",
       "    <tr>\n",
       "      <th>0</th>\n",
       "      <td>ANUVA GOYAL anuvagoyal111@gmail.com ['Html', '...</td>\n",
       "    </tr>\n",
       "    <tr>\n",
       "      <th>1</th>\n",
       "      <td>Name: abiral.pandey88@gmail.com ['Html', 'Nosq...</td>\n",
       "    </tr>\n",
       "    <tr>\n",
       "      <th>2</th>\n",
       "      <td>Achyuth 540 achyuth.java88@gmail.com ['Banking...</td>\n",
       "    </tr>\n",
       "    <tr>\n",
       "      <th>3</th>\n",
       "      <td>Adelina Erimia erimia@msn.com ['Branding', 'Gr...</td>\n",
       "    </tr>\n",
       "    <tr>\n",
       "      <th>4</th>\n",
       "      <td>Adhi Gopalam adhigopalam@gmail.com adhigopalam...</td>\n",
       "    </tr>\n",
       "  </tbody>\n",
       "</table>\n",
       "</div>"
      ],
      "text/plain": [
       "                                              single\n",
       "0  ANUVA GOYAL anuvagoyal111@gmail.com ['Html', '...\n",
       "1  Name: abiral.pandey88@gmail.com ['Html', 'Nosq...\n",
       "2  Achyuth 540 achyuth.java88@gmail.com ['Banking...\n",
       "3  Adelina Erimia erimia@msn.com ['Branding', 'Gr...\n",
       "4  Adhi Gopalam adhigopalam@gmail.com adhigopalam..."
      ]
     },
     "execution_count": 53,
     "metadata": {},
     "output_type": "execute_result"
    }
   ],
   "source": [
    "df2.head()"
   ]
  },
  {
   "cell_type": "code",
   "execution_count": 54,
   "metadata": {
    "colab": {
     "base_uri": "https://localhost:8080/"
    },
    "id": "O2Cw-wNYGxYA",
    "outputId": "93892553-96a4-44f2-dfd8-ce00c2c9c5e1"
   },
   "outputs": [
    {
     "name": "stderr",
     "output_type": "stream",
     "text": [
      "[nltk_data] Downloading package stopwords to C:\\Users\\Ziad\n",
      "[nltk_data]     Elhady\\AppData\\Roaming\\nltk_data...\n",
      "[nltk_data]   Package stopwords is already up-to-date!\n",
      "[nltk_data] Downloading package wordnet to C:\\Users\\Ziad\n",
      "[nltk_data]     Elhady\\AppData\\Roaming\\nltk_data...\n",
      "[nltk_data]   Package wordnet is already up-to-date!\n",
      "[nltk_data] Downloading package punkt to C:\\Users\\Ziad\n",
      "[nltk_data]     Elhady\\AppData\\Roaming\\nltk_data...\n",
      "[nltk_data]   Package punkt is already up-to-date!\n",
      "[nltk_data] Downloading package omw-1.4 to C:\\Users\\Ziad\n",
      "[nltk_data]     Elhady\\AppData\\Roaming\\nltk_data...\n",
      "[nltk_data]   Package omw-1.4 is already up-to-date!\n"
     ]
    }
   ],
   "source": [
    "nltk.download('stopwords')\n",
    "nltk.download('wordnet')\n",
    "nltk.download('punkt')\n",
    "nltk.download('omw-1.4')\n",
    "stop_words = set(stopwords.words('english'))\n",
    "lemmatizer = WordNetLemmatizer()"
   ]
  },
  {
   "cell_type": "markdown",
   "metadata": {},
   "source": [
    "**Remove Stop words and Clean some mess**"
   ]
  },
  {
   "cell_type": "code",
   "execution_count": 55,
   "metadata": {
    "id": "G-yAaFwxHezT"
   },
   "outputs": [],
   "source": [
    "pattern = re.compile(r'(@|#)\\w+|[,.]|[()]|https?://\\S+|(\\?|!)+|\\d+')\n",
    "df2['single'] = df2['single'].apply(lambda text: pattern.sub(' ', text)) \\\n",
    "                                     .apply(lambda text: ' '.join([lemmatizer.lemmatize(word.lower(), 'v') \\\n",
    "                                                                   for word in nltk.word_tokenize(text) \\\n",
    "                                                                   if word.lower() not in stop_words and word.isalpha()]))"
   ]
  },
  {
   "cell_type": "code",
   "execution_count": 56,
   "metadata": {
    "colab": {
     "base_uri": "https://localhost:8080/",
     "height": 423
    },
    "id": "TW9WNljnHpOl",
    "outputId": "2d550e65-df8f-4113-bf5c-019d9db1c610"
   },
   "outputs": [
    {
     "data": {
      "text/html": [
       "<div>\n",
       "<style scoped>\n",
       "    .dataframe tbody tr th:only-of-type {\n",
       "        vertical-align: middle;\n",
       "    }\n",
       "\n",
       "    .dataframe tbody tr th {\n",
       "        vertical-align: top;\n",
       "    }\n",
       "\n",
       "    .dataframe thead th {\n",
       "        text-align: right;\n",
       "    }\n",
       "</style>\n",
       "<table border=\"1\" class=\"dataframe\">\n",
       "  <thead>\n",
       "    <tr style=\"text-align: right;\">\n",
       "      <th></th>\n",
       "      <th>single</th>\n",
       "    </tr>\n",
       "  </thead>\n",
       "  <tbody>\n",
       "    <tr>\n",
       "      <th>0</th>\n",
       "      <td>anuva goyal anuvagoyal com science r learn c p...</td>\n",
       "    </tr>\n",
       "    <tr>\n",
       "      <th>1</th>\n",
       "      <td>name abiral pandey com science systems skills ...</td>\n",
       "    </tr>\n",
       "    <tr>\n",
       "      <th>2</th>\n",
       "      <td>achyuth achyuth java com service r development...</td>\n",
       "    </tr>\n",
       "    <tr>\n",
       "      <th>3</th>\n",
       "      <td>adelina erimia erimia com estate report improv...</td>\n",
       "    </tr>\n",
       "    <tr>\n",
       "      <th>4</th>\n",
       "      <td>adhi gopalam adhigopalam com adhigopalam com c...</td>\n",
       "    </tr>\n",
       "    <tr>\n",
       "      <th>...</th>\n",
       "      <td>...</td>\n",
       "    </tr>\n",
       "    <tr>\n",
       "      <th>195</th>\n",
       "      <td>sunitha senior project manager email sruthi co...</td>\n",
       "    </tr>\n",
       "    <tr>\n",
       "      <th>196</th>\n",
       "      <td>syed zia ashraf scott com intelligence analysi...</td>\n",
       "    </tr>\n",
       "    <tr>\n",
       "      <th>197</th>\n",
       "      <td>accomplish tanmaydam com experience technology...</td>\n",
       "    </tr>\n",
       "    <tr>\n",
       "      <th>198</th>\n",
       "      <td>tarun sr business system analyst analysis serv...</td>\n",
       "    </tr>\n",
       "    <tr>\n",
       "      <th>199</th>\n",
       "      <td>tarun business analysis experience r project c...</td>\n",
       "    </tr>\n",
       "  </tbody>\n",
       "</table>\n",
       "<p>200 rows × 1 columns</p>\n",
       "</div>"
      ],
      "text/plain": [
       "                                                single\n",
       "0    anuva goyal anuvagoyal com science r learn c p...\n",
       "1    name abiral pandey com science systems skills ...\n",
       "2    achyuth achyuth java com service r development...\n",
       "3    adelina erimia erimia com estate report improv...\n",
       "4    adhi gopalam adhigopalam com adhigopalam com c...\n",
       "..                                                 ...\n",
       "195  sunitha senior project manager email sruthi co...\n",
       "196  syed zia ashraf scott com intelligence analysi...\n",
       "197  accomplish tanmaydam com experience technology...\n",
       "198  tarun sr business system analyst analysis serv...\n",
       "199  tarun business analysis experience r project c...\n",
       "\n",
       "[200 rows x 1 columns]"
      ]
     },
     "execution_count": 56,
     "metadata": {},
     "output_type": "execute_result"
    }
   ],
   "source": [
    "df2.head(200)"
   ]
  },
  {
   "cell_type": "markdown",
   "metadata": {},
   "source": [
    "**Now we will use spacy to Extract if any various keywords of OCEAN in table below. Each trait is associated with a set of 10 keywords that relate to it. There are many Natural Language Processing (NLP) libraries like Natural Language Toolkit (NLTK), TextBlob, SpaCY which could help us in parsing the resume data. We have used SpaCY- an open-source software library for advanced natural language processing and is helpful to handle large amounts of text data.**\n",
    "\n",
    "| Trait | Words |\n",
    "|-|-|\n",
    "| Openness | imagine, insight, curious, create, outspoken, straightforward, direct, receptive, open-minded, adventurous |\n",
    "| Conscientiousness | thoughtful, goal, ambitious, organise, mindful, vigilant, control, discipline, reliable, responsible |\n",
    "| Extraversion | cheerful, sociable, talk, assert, outgoing, energetic, extrovert, friend, enthusiasm, outspoken |  \n",
    "| Agreeableness | trustworthy, altruism, kind, affection, cooperate, empathize, modest, sympathize, comply, tender-mindedness |\n",
    "| Neuroticism | calm, strong heart, collect, balance, peace, tranquil, strong-will, emotionally stable, serene, resilient |"
   ]
  },
  {
   "cell_type": "code",
   "execution_count": 58,
   "metadata": {
    "colab": {
     "base_uri": "https://localhost:8080/"
    },
    "id": "xX8XsoT52R_X",
    "outputId": "69c7b476-2861-4f6e-e6b3-2c2c8596dfb0"
   },
   "outputs": [
    {
     "name": "stdout",
     "output_type": "stream",
     "text": [
      "0      {'Openness': 0, 'Conscientiousness': 0, 'Extra...\n",
      "1      {'Openness': 0, 'Conscientiousness': 0, 'Extra...\n",
      "2      {'Openness': 0, 'Conscientiousness': 0, 'Extra...\n",
      "3      {'Openness': 0, 'Conscientiousness': 0, 'Extra...\n",
      "4      {'Openness': 0, 'Conscientiousness': 0, 'Extra...\n",
      "                             ...                        \n",
      "224    {'Openness': 0, 'Conscientiousness': 0, 'Extra...\n",
      "225    {'Openness': 0, 'Conscientiousness': 0, 'Extra...\n",
      "226    {'Openness': 0, 'Conscientiousness': 0, 'Extra...\n",
      "227    {'Openness': 0, 'Conscientiousness': 0, 'Extra...\n",
      "228    {'Openness': 1, 'Conscientiousness': 0, 'Extra...\n",
      "Name: single, Length: 229, dtype: object\n"
     ]
    }
   ],
   "source": [
    "import spacy\n",
    "from spacy.matcher import PhraseMatcher\n",
    "\n",
    "nlp = spacy.load('en_core_web_sm')\n",
    "\n",
    "ocean_traits = {\n",
    "    'Openness': ['imagine', 'insight', 'curious', 'create', 'outspoken', 'straightforward', 'direct', 'receptive', 'open-minded', 'adventurous'],\n",
    "    'Conscientiousness': ['thoughtful', 'goal', 'ambitious', 'organise', 'mindful', 'vigilant', 'control', 'discipline', 'reliable', 'responsible'], \n",
    "    'Extraversion': ['cheerful', 'sociable', 'talk', 'assert', 'outgoing', 'energetic', 'extrovert', 'friend', 'enthusiasm', 'outspoken'],\n",
    "    'Agreeableness': ['trustworthy', 'altruism', 'kind', 'affection', 'cooperate', 'empathize', 'modest', 'sympathize', 'comply', 'tender-mindedness'],\n",
    "    'Neuroticism': ['calm', 'strong heart', 'collect', 'balance', 'peace', 'tranquil', 'strong-will', 'emotionally stable', 'serene', 'resilient']\n",
    "}\n",
    "\n",
    "matcher = PhraseMatcher(nlp.vocab)\n",
    "for trait, keywords in ocean_traits.items():\n",
    "    patterns = [nlp(text.lower()) for text in keywords]\n",
    "    matcher.add(trait, None, *patterns)\n",
    "\n",
    "def assess_traits(text):\n",
    "    doc = nlp(text.lower())\n",
    "    scores = {'Openness': 0, 'Conscientiousness': 0, 'Extraversion': 0, 'Agreeableness': 0, 'Neuroticism': 0}\n",
    "    matches = matcher(doc)\n",
    "    for match_id, start, end in matches:\n",
    "        span = doc[start:end]\n",
    "        trait = nlp.vocab.strings[match_id]\n",
    "        scores[trait] += 1\n",
    "    return scores\n",
    "\n",
    "\n",
    "scores = df2['single'].apply(assess_traits)\n",
    "print(scores)"
   ]
  },
  {
   "cell_type": "code",
   "execution_count": 59,
   "metadata": {
    "id": "H_kCamq7_VAT"
   },
   "outputs": [],
   "source": [
    "personality_map = {0: 'dependable', 1: 'extraverted', 2: 'lively',\n",
    "                   3: 'responsible', 4: 'serious'}"
   ]
  },
  {
   "cell_type": "code",
   "execution_count": 60,
   "metadata": {
    "id": "4LpFCpTj_jD9"
   },
   "outputs": [],
   "source": [
    "for score in scores:\n",
    "    x = [score['Openness'], score['Conscientiousness'], score['Extraversion'],\n",
    "         score['Agreeableness'], score['Neuroticism']]\n",
    "    y_pred = rf.predict([x])[0]\n",
    "    score['Personality (Class label)'] = personality_map[y_pred]"
   ]
  },
  {
   "cell_type": "code",
   "execution_count": 61,
   "metadata": {
    "id": "5v-GdQnx7D7Y"
   },
   "outputs": [],
   "source": [
    "with open('ocean_scores.csv', 'w', newline='') as file:\n",
    "    writer = csv.writer(file)\n",
    "    writer.writerow(['Openness', 'Conscientiousness', 'Extraversion',\n",
    "                     'Agreeableness', 'Neuroticism', 'Personality (Class label)'])\n",
    "    for score in scores:\n",
    "        writer.writerow([score['Openness'], score['Conscientiousness'], score['Extraversion'],\n",
    "                         score['Agreeableness'], score['Neuroticism'],\n",
    "                         score['Personality (Class label)']])"
   ]
  },
  {
   "cell_type": "code",
   "execution_count": 67,
   "metadata": {
    "colab": {
     "base_uri": "https://localhost:8080/",
     "height": 399
    },
    "id": "ddc6vOgoAfyQ",
    "outputId": "105989a3-1e75-409b-93da-b43ece076ac4"
   },
   "outputs": [],
   "source": [
    "import tkinter as tk\n",
    "from tkinter import *\n",
    "import tkinter.font as font\n",
    "\n",
    "def test(test_data):\n",
    "    try:\n",
    "        test_predict=list()\n",
    "        for i in test_data:\n",
    "            test_predict.append(int(i))\n",
    "        y_pred = rf.predict([test_predict])\n",
    "        print(y_pred[0])\n",
    "        return y_pred[0]\n",
    "    except:\n",
    "        print(\"All Factors For Finding Personality Not Entered!\")\n",
    "\n",
    "def upload_cv():\n",
    "    \n",
    "    top = tk.Toplevel()\n",
    "    top.title(\"Upload CV\")\n",
    "    top.geometry(\"500x300\")\n",
    "    top.configure(background='black')\n",
    "\n",
    "\n",
    "    # Add an upload button\n",
    "    upload_button = tk.Button(top, text=\"Upload CV\", command=lambda: upload_cv_file(top))\n",
    "    upload_button.pack(pady=20)\n",
    "    upload_button.place(relx=0.5, rely=0.5, anchor=\"center\")\n",
    "\n",
    "def enter_big_five_traits():\n",
    "    # Open a new window to enter the big five traits\n",
    "    top = tk.Toplevel()\n",
    "    top.title(\"Enter Big Five Traits\")\n",
    "    top.configure(background='black')\n",
    "    top.geometry(\"500x300\")\n",
    "\n",
    "    l1=Label(top, text=\"Applicant Name\", foreground='white', bg='black').place(x=70, y=130)\n",
    "    l2=Label(top, text=\"Age\", foreground='white', bg='black').place(x=70, y=160)\n",
    "    l3=Label(top, text=\"Gender\", foreground='white', bg='black').place(x=70, y=190)\n",
    "    l5=Label(top, text=\"Enjoy New Experience or thing(Openness)\", foreground='white', bg='black').place(x=70, y=250)\n",
    "    l6=Label(top, text=\"How Offen You Feel Negativity(Neuroticism)\", foreground='white', bg='black').place(x=70, y=280)\n",
    "    l7=Label(top, text=\"Wishing to do one's work well and thoroughly(Conscientiousness)\", foreground='white', bg='black').place(x=70, y=310)\n",
    "    l8=Label(top, text=\"How much would you like work with your peers(Agreeableness)\", foreground='white', bg='black').place(x=70, y=340)\n",
    "    l9=Label(top, text=\"How outgoing and social interaction you like(Extraversion)\", foreground='white', bg='black').place(x=70, y=370)\n",
    "    \n",
    "    sName=Entry(top)\n",
    "    sName.place(x=450, y=130, width=160)\n",
    "    age=Entry(top)\n",
    "    age.place(x=450, y=160, width=160)\n",
    "    gender = IntVar()\n",
    "    R1 = Radiobutton(top, text=\"Male\", variable=gender, value=1, padx=7)\n",
    "    R1.place(x=450, y=190)\n",
    "    R2 = Radiobutton(top, text=\"Female\", variable=gender, value=0, padx=3)\n",
    "    R2.place(x=540, y=190)\n",
    "    openness=Entry(top)\n",
    "    openness.insert(0,'1-10')\n",
    "    openness.place(x=450, y=250, width=160)\n",
    "    neuroticism=Entry(top)\n",
    "    neuroticism.insert(0,'1-10')\n",
    "    neuroticism.place(x=450, y=280, width=160)\n",
    "    conscientiousness=Entry(top)\n",
    "    conscientiousness.insert(0,'1-10')\n",
    "    conscientiousness.place(x=450, y=310, width=160)\n",
    "    agreeableness=Entry(top)\n",
    "    agreeableness.insert(0,'1-10')\n",
    "    agreeableness.place(x=450, y=340, width=160)\n",
    "    extraversion=Entry(top)\n",
    "    extraversion.insert(0,'1-10')\n",
    "    extraversion.place(x=450, y=370, width=160)\n",
    "    # Add a calculate button\n",
    "    submitBtn=Button(top, padx=2, pady=0, text=\"Submit\", bd=0, foreground='white', bg='red', font=(12))\n",
    "    submitBtn.config(command=lambda: prediction_result(top,sName,(gender.get(),age.get(),openness.get(),neuroticism.get(),conscientiousness.get(),agreeableness.get(),extraversion.get())))\n",
    "    submitBtn.place(x=350, y=400, width=200)\n",
    "    \n",
    "    \n",
    "def upload_cv_file(top):\n",
    "    \n",
    "    filename = tk.filedialog.askopenfilename(filetypes=[(\"CV files\", \"*.pdf\")])\n",
    "    resume = ResumeAnalyzer()\n",
    "    parsed = resume.process_resume(filename)\n",
    "    submitBtn=Button(top, padx=2, pady=0, text=\"Submit\", bd=0, foreground='white', bg='red', font=(12))\n",
    "    submitBtn.config(command=lambda: prediction_result_CV(parsed,top))\n",
    "    submitBtn.pack(pady=20)\n",
    "    submitBtn.place(relx=0.5, rely=0.6, anchor=\"center\") \n",
    "   \n",
    "def prediction_result_CV(parsed,top):\n",
    "    \n",
    "    df = pd.DataFrame([parsed])\n",
    "    # Fill null values with spaces\n",
    "    df = df.fillna(' ')\n",
    "\n",
    "    # Concatenate all columns into one\n",
    "    df['parsed'] = df.astype(str).agg(' '.join, axis=1) \n",
    "    df = df[['parsed']] \n",
    "    df['parsed'] = df['parsed'].apply(lambda text: pattern.sub(' ', text)) \\\n",
    "                                     .apply(lambda text: ' '.join([lemmatizer.lemmatize(word.lower(), 'v') \\\n",
    "                                                                   for word in nltk.word_tokenize(text) \\\n",
    "                                                                   if word.lower() not in stop_words and word.isalpha()]))\n",
    "    score = df['parsed'].apply(assess_traits)\n",
    "    for score in scores:\n",
    "        x = [score['Openness'], score['Conscientiousness'], score['Extraversion'],\n",
    "             score['Agreeableness'], score['Neuroticism']]\n",
    "    y_pred = rf.predict([x])[0]\n",
    "    personality = personality_map[y_pred]\n",
    "    top.withdraw()\n",
    "    result=Tk()\n",
    "    result.overrideredirect(False)\n",
    "    result.geometry(\"{0}x{1}+0+0\".format(result.winfo_screenwidth(), result.winfo_screenheight()))\n",
    "    result.configure(background='White')\n",
    "    result.title(\"Predicted Personality\")\n",
    "    titleFont = font.Font(family='Arial', size=40, weight='bold')\n",
    "    Label(result, text=\"Result - Personality Prediction\", foreground='green', bg='white', font=titleFont, pady=10, anchor=CENTER).pack(fill=BOTH)\n",
    "    \n",
    "    Label(result, text = str('{} : {}'.format(\"Name:\", parsed['name'])).title(), foreground='black', bg='white', anchor='w').pack(fill=BOTH)\n",
    "    Label(result, text = str(\"perdicted personality: \"+ personality).title(), foreground='black', bg='white', anchor='w').pack(fill=BOTH)\n",
    "    \n",
    "    quitBtn = Button(result, text=\"Exit\", command =lambda:  result.destroy()).pack()\n",
    "\n",
    "    result.mainloop()\n",
    "    \n",
    "    \n",
    "def prediction_result(top, aplcnt_name, personality_values):\n",
    "    \"after applying a job\"\n",
    "    top.withdraw()\n",
    "    applicant_data={\"Candidate Name\":aplcnt_name.get()}\n",
    "    \n",
    "    age = personality_values[1]\n",
    "    \n",
    "    personality = test(personality_values[2:]).item()\n",
    "    personality = personality_map[personality]\n",
    "    result=Tk()\n",
    "    result.overrideredirect(False)\n",
    "    result.geometry(\"{0}x{1}+0+0\".format(result.winfo_screenwidth(), result.winfo_screenheight()))\n",
    "    result.configure(background='White')\n",
    "    result.title(\"Predicted Personality\")\n",
    "    \n",
    "    titleFont = font.Font(family='Arial', size=40, weight='bold')\n",
    "    Label(result, text=\"Result - Personality Prediction\", foreground='green', bg='white', font=titleFont, pady=10, anchor=CENTER).pack(fill=BOTH)\n",
    "    \n",
    "    Label(result, text = str('{} : {}'.format(\"Name:\", aplcnt_name.get())).title(), foreground='black', bg='white', anchor='w').pack(fill=BOTH)\n",
    "    Label(result, text = str('{} : {}'.format(\"Age:\", age)), foreground='black', bg='white', anchor='w').pack(fill=BOTH)\n",
    "    Label(result, text = str(\"perdicted personality: \"+ personality).title(), foreground='black', bg='white', anchor='w').pack(fill=BOTH)\n",
    "    \n",
    "    quitBtn = Button(result, text=\"Exit\", command =lambda:  result.destroy()).pack()\n",
    "\n",
    "    result.mainloop()\n",
    "\n",
    "\n",
    "if __name__ == \"__main__\":\n",
    "\n",
    "    root = tk.Tk()\n",
    "    root.title('Personality Prediction System')\n",
    "    root.geometry(\"500x300\")\n",
    "\n",
    "    # Add title\n",
    "    title_label = tk.Label(root, text=\"Personality Prediction\", font=(\"Arial\", 18))\n",
    "    title_label.pack()\n",
    "\n",
    "    # Frame and Buttons\n",
    "    button_frame = tk.Frame(root)\n",
    "    button_frame.pack(pady=20)\n",
    "\n",
    "    button_frame.columnconfigure(0, weight=1) \n",
    "    button_frame.columnconfigure(1, weight=1)\n",
    "\n",
    "    upload_button = tk.Button(button_frame, text=\"Upload CV\" , command = upload_cv)\n",
    "    upload_button.grid(row=0, column=0, sticky=\"ew\")\n",
    "\n",
    "    enter_big_five_traits_button = tk.Button(button_frame, text=\"Enter Big Five Traits\",command = enter_big_five_traits) \n",
    "    enter_big_five_traits_button.grid(row=0, column=1, sticky=\"ew\")\n",
    "\n",
    "    button_frame.grid_columnconfigure(0, weight=1)\n",
    "    button_frame.grid_columnconfigure(1, weight=1)\n",
    "\n",
    "    root.mainloop()"
   ]
  }
 ],
 "metadata": {
  "colab": {
   "provenance": []
  },
  "kernelspec": {
   "display_name": "Python 3 (ipykernel)",
   "language": "python",
   "name": "python3"
  },
  "language_info": {
   "codemirror_mode": {
    "name": "ipython",
    "version": 3
   },
   "file_extension": ".py",
   "mimetype": "text/x-python",
   "name": "python",
   "nbconvert_exporter": "python",
   "pygments_lexer": "ipython3",
   "version": "3.9.13"
  }
 },
 "nbformat": 4,
 "nbformat_minor": 1
}
